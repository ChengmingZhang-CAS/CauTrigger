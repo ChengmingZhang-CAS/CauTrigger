{
 "cells": [
  {
   "cell_type": "code",
   "execution_count": 2,
   "id": "8f7236d7-8ff6-4e7a-bab0-1c68c14d7301",
   "metadata": {},
   "outputs": [],
   "source": [
    "import os\n",
    "import math\n",
    "import numpy as np\n",
    "import pandas as pd\n",
    "import matplotlib.pyplot as plt\n",
    "import seaborn as sns\n",
    "from itertools import combinations\n",
    "from sklearn.preprocessing import normalize, minmax_scale\n",
    "from scipy.stats import pearsonr, spearmanr, f_oneway, norm\n",
    "import warnings\n",
    "warnings.filterwarnings(\"ignore\")\n",
    "import sys\n",
    "sys.path.append('/sibcb1/chenluonanlab8/caideyu/CauTrigger_new/')\n",
    "plt.rcParams['pdf.fonttype'] = 42\n",
    "plt.rcParams['font.sans-serif'] = ['Arial']\n",
    "plt.rcParams['font.family'] = 'sans-serif'\n",
    "import logging\n",
    "logging.getLogger('matplotlib.font_manager').disabled = True\n",
    "import scanpy as sc\n",
    "import torch\n",
    "import torch.nn as nn\n",
    "torch.cuda.set_device(0)\n",
    "import pybedtools\n",
    "from sklearn.metrics import (\n",
    "    average_precision_score,\n",
    "    roc_auc_score,\n",
    "    f1_score,\n",
    "    precision_score,\n",
    "    recall_score\n",
    ")\n",
    "from scipy.sparse import load_npz\n",
    "from scipy.sparse import coo_matrix\n",
    "\n",
    "from CauTrigger.utils import set_seed, select_features\n",
    "from CauTrigger.model import CauTrigger3L, CauTrigger2L, CauTrigger1L\n",
    "set_seed(42)"
   ]
  },
  {
   "cell_type": "code",
   "execution_count": 4,
   "id": "1a1cf177-086b-427d-9415-8b1baeb8e4ab",
   "metadata": {},
   "outputs": [],
   "source": [
    "data_dir = '/sibcb1/chenluonanlab8/caideyu/CauTrigger_new/BenchmarkGRN/PBMC/data/'\n",
    "output_dir = '/sibcb1/chenluonanlab8/caideyu/CauTrigger_new/BenchmarkGRN/PBMC/output/'\n",
    "os.makedirs(output_dir, exist_ok=True)"
   ]
  },
  {
   "cell_type": "code",
   "execution_count": 12,
   "id": "120a84b8-af63-4572-94ff-8d36354b969c",
   "metadata": {},
   "outputs": [],
   "source": [
    "TF = pd.read_csv(os.path.join(data_dir, 'filtered_TF_pseudobulk.csv'), index_col=0).T  # 343 metacell x 154 TF\n",
    "RE = pd.read_csv(os.path.join(data_dir, 'filtered_RE_pseudobulk.csv'), index_col=0).T  # 343 metacell x 22207 RE\n",
    "TG = pd.read_csv(os.path.join(data_dir, 'filtered_TG_pseudobulk.csv'), index_col=0).T  # 343 metacell x 5378 TG"
   ]
  },
  {
   "cell_type": "code",
   "execution_count": 13,
   "id": "0ae03659-8d10-48b3-9a7a-1dac951929e8",
   "metadata": {},
   "outputs": [],
   "source": [
    "adata_RNA_all = sc.read_h5ad(os.path.join(data_dir, 'adata_RNA.h5ad'))\n",
    "adata_ATAC_all = sc.read_h5ad(os.path.join(data_dir, 'adata_ATAC.h5ad'))"
   ]
  },
  {
   "cell_type": "code",
   "execution_count": 14,
   "id": "785f340d-88f4-4dff-a2af-c34b238d7764",
   "metadata": {
    "scrolled": true
   },
   "outputs": [],
   "source": [
    "labels = pd.read_csv(os.path.join(data_dir, 'PBMC_label.txt'), sep='\\t')"
   ]
  },
  {
   "cell_type": "code",
   "execution_count": 15,
   "id": "3114e970-782a-40f0-ae22-85f6f932eb79",
   "metadata": {
    "scrolled": true
   },
   "outputs": [],
   "source": [
    "labels_indexed = labels.set_index(labels.columns[0])\n",
    "aligned_values = labels_indexed.loc[TF.index, labels.columns[1]].values  # 这是metacell每个的celltype\n",
    "from sklearn.preprocessing import LabelEncoder\n",
    "label_encoder = LabelEncoder()\n",
    "numeric_values = label_encoder.fit_transform(aligned_values)  # 这是metacell每个的数字标签"
   ]
  },
  {
   "cell_type": "code",
   "execution_count": 16,
   "id": "14e65c86-3045-42ff-ba34-2e10fdcfcb9d",
   "metadata": {
    "scrolled": true
   },
   "outputs": [],
   "source": [
    "label_map = pd.DataFrame({\n",
    "    \"celltype\": label_encoder.classes_,\n",
    "    \"label\": np.arange(len(label_encoder.classes_))\n",
    "})\n",
    "celltypes = label_encoder.classes_"
   ]
  },
  {
   "cell_type": "code",
   "execution_count": 19,
   "id": "09ced913-cb12-4247-838e-7b7562707958",
   "metadata": {
    "scrolled": true
   },
   "outputs": [],
   "source": [
    "linger_used_table = pd.read_csv(os.path.join(data_dir, 'CistromeDB_linger_used/linger用的PBMC的金标准.csv'))  # 20\n",
    "linger_used_table = linger_used_table.loc[np.isin(linger_used_table['Transcription factor'], TF.columns), :]  # 16"
   ]
  },
  {
   "cell_type": "code",
   "execution_count": 9,
   "id": "6c773477-1c0b-4568-b16e-b5f2545c29f9",
   "metadata": {},
   "outputs": [],
   "source": [
    "# RE-TG interaction matrix\n",
    "sparse_matrix = load_npz(os.path.join(data_dir, \"TG_RE_interaction_matrix.npz\"))  # 5378 x 20573\n",
    "sparse_matrix_index = pd.read_csv(os.path.join(data_dir, \"TG_RE_interaction_matrix_rows.txt\")).values.flatten()\n",
    "sparse_matrix_column = pd.read_csv(os.path.join(data_dir, \"TG_RE_interaction_matrix_cols.txt\")).values.flatten()"
   ]
  },
  {
   "cell_type": "markdown",
   "id": "17ba4e83-8dfc-4735-9bb4-11996ffb7c84",
   "metadata": {},
   "source": [
    "## CauTrigger-321"
   ]
  },
  {
   "cell_type": "code",
   "execution_count": 9,
   "id": "33171dbc-0a9b-4548-b4b1-bf71d9f22e6a",
   "metadata": {},
   "outputs": [],
   "source": [
    "adata1 = sc.AnnData(TG)\n",
    "adata1.var_names = np.array(TG.columns)\n",
    "adata1.obs_names = np.array(TG.index)\n",
    "# adata1.obsm['X_down'] = np.array(TG)\n",
    "adata1.obs[\"labels\"] = numeric_values\n",
    "adata1.obs[\"celltype\"] = aligned_values\n",
    "\n",
    "model321_1 = CauTrigger1L(\n",
    "    adata1,\n",
    "    n_latent=10,\n",
    "    n_hidden=128,\n",
    "    n_state=len(np.unique(aligned_values)),\n",
    "    n_layers_encoder=0,\n",
    "    n_layers_decoder=0,\n",
    "    n_layers_dpd=0,\n",
    "    dropout_rate_encoder=0.0,\n",
    "    dropout_rate_decoder=0.0,\n",
    "    dropout_rate_dpd=0.0,\n",
    "    use_batch_norm='none',\n",
    "    use_batch_norm_dpd=True,\n",
    "    decoder_linear=True,\n",
    "    dpd_linear=False,\n",
    "    # update_down_weight=True,\n",
    "    init_thresh=0.00,\n",
    "    attention=False,\n",
    "    att_mean=False,\n",
    ")"
   ]
  },
  {
   "cell_type": "code",
   "execution_count": 10,
   "id": "058b9614-8df2-4daf-8842-f743632f7c79",
   "metadata": {},
   "outputs": [
    {
     "name": "stderr",
     "output_type": "stream",
     "text": [
      "training: 100%|██████████| 300/300 [01:19<00:00,  3.75it/s]\n"
     ]
    }
   ],
   "source": [
    "model321_1.train(max_epochs=300, batch_size=64, stage_training=True, weight_scheme=\"pbmc\")"
   ]
  },
  {
   "cell_type": "code",
   "execution_count": 19,
   "id": "a3da29ff-37a9-4380-aa05-0f239b47167f",
   "metadata": {},
   "outputs": [],
   "source": [
    "weight_df_weight1 = model321_1.get_up_feature_weights(normalize=True, method=\"Grad\", sort_by_weight=False)\n",
    "causal_factors_layer1_indices = np.argsort(weight_df_weight1[0]['weight'])[-3000:][::-1]\n",
    "\n",
    "adata2 = sc.AnnData(RE)\n",
    "adata2.var_names = np.array(RE.columns)\n",
    "adata2.obs_names = np.array(RE.index)\n",
    "adata2.obs[\"labels\"] = numeric_values\n",
    "adata2.obs[\"celltype\"] = aligned_values\n",
    "adata2.obsm['X_down'] = adata1.X[:, causal_factors_layer1_indices]\n",
    "adata2.uns['TG_names'] = adata1[:, causal_factors_layer1_indices].var_names.values"
   ]
  },
  {
   "cell_type": "code",
   "execution_count": 22,
   "id": "87908548-0a93-4490-bcfb-c19fa02677ef",
   "metadata": {
    "scrolled": true
   },
   "outputs": [],
   "source": [
    "adata2.write(data_dir + 'adatatmp2.h5ad')"
   ]
  },
  {
   "cell_type": "code",
   "execution_count": 8,
   "id": "6c452e22-f3f8-4069-8a29-329cf21a9a03",
   "metadata": {},
   "outputs": [],
   "source": [
    "adata2 = sc.read_h5ad(data_dir + 'adatatmp2.h5ad')"
   ]
  },
  {
   "cell_type": "code",
   "execution_count": 9,
   "id": "52fed28b-4e3c-46b9-a54c-81399cf67a5e",
   "metadata": {},
   "outputs": [],
   "source": [
    "model321_2 = CauTrigger2L(\n",
    "    adata2,\n",
    "    n_latent=10,\n",
    "    n_hidden=128,\n",
    "    n_state=len(np.unique(aligned_values)),\n",
    "    n_layers_encoder=0,\n",
    "    n_layers_decoder=0,\n",
    "    n_layers_dpd=0,\n",
    "    dropout_rate_encoder=0.0,\n",
    "    dropout_rate_decoder=0.0,\n",
    "    dropout_rate_dpd=0.0,\n",
    "    use_batch_norm='none',\n",
    "    use_batch_norm_dpd=True,\n",
    "    decoder_linear=True,\n",
    "    dpd_linear=False,\n",
    "    # update_down_weight=True,\n",
    "    init_thresh=0.00,\n",
    "    attention=False,\n",
    "    att_mean=False,\n",
    ")"
   ]
  },
  {
   "cell_type": "code",
   "execution_count": 10,
   "id": "f1b9e147-ccdf-473b-b235-934d08c48998",
   "metadata": {},
   "outputs": [
    {
     "name": "stderr",
     "output_type": "stream",
     "text": [
      "training: 100%|██████████| 300/300 [06:04<00:00,  1.21s/it]\n"
     ]
    }
   ],
   "source": [
    "model321_2.train(max_epochs=300, batch_size=32, stage_training=True, weight_scheme=\"pbmc\")"
   ]
  },
  {
   "cell_type": "code",
   "execution_count": 11,
   "id": "309fa344-8e02-45dc-918a-30999e00b53a",
   "metadata": {},
   "outputs": [],
   "source": [
    "weight_df_weight2 = model321_2.get_up_feature_weights(normalize=True, method=\"Grad\", sort_by_weight=False)\n",
    "causal_factors_layer2_indices = np.argsort(weight_df_weight2[0]['weight'])[-10000:][::-1]\n",
    "\n",
    "adata3 = sc.AnnData(TF)\n",
    "adata3.var_names = np.array(TF.columns)\n",
    "adata3.obs_names = np.array(TF.index)\n",
    "adata3.obs[\"labels\"] = numeric_values\n",
    "adata3.obs[\"celltype\"] = aligned_values\n",
    "adata3.obsm['X_down2'] = adata2.obsm['X_down'].copy()\n",
    "adata3.obsm['X_down1'] = adata2.X[:, causal_factors_layer2_indices]\n",
    "adata3.uns['TG_names'] = adata2.uns['TG_names'].copy()\n",
    "adata3.uns['RE_names'] = adata2[:, causal_factors_layer2_indices].var_names.values"
   ]
  },
  {
   "cell_type": "code",
   "execution_count": 39,
   "id": "e7e2f6b8-d276-418c-8544-17a9220608ad",
   "metadata": {},
   "outputs": [],
   "source": [
    "adata3.write(data_dir + 'adatatmp3.h5ad')"
   ]
  },
  {
   "cell_type": "code",
   "execution_count": 8,
   "id": "6b18ae0f-7569-4807-9f25-4205deb5148f",
   "metadata": {},
   "outputs": [],
   "source": [
    "adata3 = sc.read_h5ad(data_dir + 'adatatmp3.h5ad')"
   ]
  },
  {
   "cell_type": "code",
   "execution_count": 40,
   "id": "e1e23bbc-1631-4d15-9df5-c75ea2ab8d64",
   "metadata": {},
   "outputs": [],
   "source": [
    "model321_3 = CauTrigger3L(\n",
    "    adata3,\n",
    "    n_latent=10,\n",
    "    n_hidden=128,\n",
    "    n_state=len(np.unique(aligned_values)),\n",
    "    n_layers_encoder=0,\n",
    "    n_layers_decoder=0,\n",
    "    n_layers_dpd=0,\n",
    "    dropout_rate_encoder=0.0,\n",
    "    dropout_rate_decoder=0.0,\n",
    "    dropout_rate_dpd=0.0,\n",
    "    use_batch_norm='none',\n",
    "    use_batch_norm_dpd=True,\n",
    "    decoder_linear=True,\n",
    "    dpd_linear=False,\n",
    "    # update_down_weight=True,\n",
    "    init_thresh=0.00,\n",
    "    attention=False,\n",
    "    att_mean=False,\n",
    "    decoder_down2_sparse=False,\n",
    ")"
   ]
  },
  {
   "cell_type": "code",
   "execution_count": 41,
   "id": "fc1cf29b-bbcd-41d5-af65-c5fe10043f47",
   "metadata": {},
   "outputs": [
    {
     "name": "stderr",
     "output_type": "stream",
     "text": [
      "training: 100%|██████████| 300/300 [11:53<00:00,  2.38s/it]\n"
     ]
    }
   ],
   "source": [
    "model321_3.train(max_epochs=300, batch_size=32, stage_training=True, weight_scheme=\"pbmc\")"
   ]
  },
  {
   "cell_type": "code",
   "execution_count": 47,
   "id": "7c249b6c-7a70-4734-be8e-5bed67f08394",
   "metadata": {},
   "outputs": [],
   "source": [
    "tf_tg_ig_dict321 = {}\n",
    "for celltype in ['naive B cells', 'myeloid DC', 'classical monocytes', 'naive CD4 T cells']:\n",
    "    tf_tg_ig_dict321[celltype] = model321_3.get_3to1_ig(data_dir=data_dir, celltype=celltype)"
   ]
  },
  {
   "cell_type": "code",
   "execution_count": 48,
   "id": "648ec28e-c2fc-4fb2-b94b-050ef1074ab8",
   "metadata": {
    "scrolled": true
   },
   "outputs": [],
   "source": [
    "tf_tg_interaction_dict321 = {}\n",
    "for idx, row in linger_used_table.iterrows():\n",
    "    celltype = row[2]\n",
    "    tfname = row[1]\n",
    "\n",
    "    tf_tg_interaction = tf_tg_ig_dict321[celltype]\n",
    "    tf_tg_interaction = tf_tg_interaction.mean(axis=0)\n",
    "    tf_tg_interaction = tf_tg_interaction[np.where(TF.columns == tfname)[0][0], :]\n",
    "    tf_tg_interaction_dict321[(celltype, tfname)] = tf_tg_interaction"
   ]
  },
  {
   "cell_type": "markdown",
   "id": "bd901fc2-41a2-4bf6-9125-c5d98657f7d7",
   "metadata": {},
   "source": [
    "## CellOracle"
   ]
  },
  {
   "cell_type": "code",
   "execution_count": 17,
   "id": "7fbdcb67-f5e3-4221-bc3e-25bfa92d2b78",
   "metadata": {
    "scrolled": true
   },
   "outputs": [
    {
     "name": "stdout",
     "output_type": "stream",
     "text": [
      "Loading prebuilt promoter base-GRN. Version: hg38_gimmemotifsv5_fpr2\n",
      "25485 genes were found in the adata. Note that Celloracle is intended to use around 1000-3000 genes, so the behavior with this number of genes may differ from what is expected.\n"
     ]
    },
    {
     "data": {
      "application/vnd.jupyter.widget-view+json": {
       "model_id": "8450d81f9dac4f0e952ccc4613888011",
       "version_major": 2,
       "version_minor": 0
      },
      "text/plain": [
       "  0%|          | 0/14 [00:00<?, ?it/s]"
      ]
     },
     "metadata": {},
     "output_type": "display_data"
    },
    {
     "name": "stdout",
     "output_type": "stream",
     "text": [
      "Inferring GRN for CD56 (bright) NK cells...\n"
     ]
    },
    {
     "data": {
      "application/vnd.jupyter.widget-view+json": {
       "model_id": "09478cd3db854a4d8b6f350807dfecd7",
       "version_major": 2,
       "version_minor": 0
      },
      "text/plain": [
       "  0%|          | 0/17933 [00:00<?, ?it/s]"
      ]
     },
     "metadata": {},
     "output_type": "display_data"
    },
    {
     "name": "stdout",
     "output_type": "stream",
     "text": [
      "Inferring GRN for CD56 (dim) NK cells...\n"
     ]
    },
    {
     "data": {
      "application/vnd.jupyter.widget-view+json": {
       "model_id": "06cd5c7415bc4850982c9684c35cff52",
       "version_major": 2,
       "version_minor": 0
      },
      "text/plain": [
       "  0%|          | 0/17933 [00:00<?, ?it/s]"
      ]
     },
     "metadata": {},
     "output_type": "display_data"
    },
    {
     "name": "stdout",
     "output_type": "stream",
     "text": [
      "Inferring GRN for MAIT T cells...\n"
     ]
    },
    {
     "data": {
      "application/vnd.jupyter.widget-view+json": {
       "model_id": "2e7087e67d16438c9a1e5d80a325eeb3",
       "version_major": 2,
       "version_minor": 0
      },
      "text/plain": [
       "  0%|          | 0/17933 [00:00<?, ?it/s]"
      ]
     },
     "metadata": {},
     "output_type": "display_data"
    },
    {
     "name": "stdout",
     "output_type": "stream",
     "text": [
      "Inferring GRN for classical monocytes...\n"
     ]
    },
    {
     "data": {
      "application/vnd.jupyter.widget-view+json": {
       "model_id": "7906daafaa7248e995cbe762335ccc59",
       "version_major": 2,
       "version_minor": 0
      },
      "text/plain": [
       "  0%|          | 0/17933 [00:00<?, ?it/s]"
      ]
     },
     "metadata": {},
     "output_type": "display_data"
    },
    {
     "name": "stdout",
     "output_type": "stream",
     "text": [
      "Inferring GRN for effector CD8 T cells...\n"
     ]
    },
    {
     "data": {
      "application/vnd.jupyter.widget-view+json": {
       "model_id": "95874838877346fbbfb786bdbdb0c0ba",
       "version_major": 2,
       "version_minor": 0
      },
      "text/plain": [
       "  0%|          | 0/17933 [00:00<?, ?it/s]"
      ]
     },
     "metadata": {},
     "output_type": "display_data"
    },
    {
     "name": "stdout",
     "output_type": "stream",
     "text": [
      "Inferring GRN for intermediate monocytes...\n"
     ]
    },
    {
     "data": {
      "application/vnd.jupyter.widget-view+json": {
       "model_id": "5a0cffb5ae5b4a64aeac0f3e0f49fb59",
       "version_major": 2,
       "version_minor": 0
      },
      "text/plain": [
       "  0%|          | 0/17933 [00:00<?, ?it/s]"
      ]
     },
     "metadata": {},
     "output_type": "display_data"
    },
    {
     "name": "stdout",
     "output_type": "stream",
     "text": [
      "Inferring GRN for memory B cells...\n"
     ]
    },
    {
     "data": {
      "application/vnd.jupyter.widget-view+json": {
       "model_id": "d8acff7930664c09a23784a1fa883dd8",
       "version_major": 2,
       "version_minor": 0
      },
      "text/plain": [
       "  0%|          | 0/17933 [00:00<?, ?it/s]"
      ]
     },
     "metadata": {},
     "output_type": "display_data"
    },
    {
     "name": "stdout",
     "output_type": "stream",
     "text": [
      "Inferring GRN for memory CD4 T cells...\n"
     ]
    },
    {
     "data": {
      "application/vnd.jupyter.widget-view+json": {
       "model_id": "4fa344141f3e4984b3f55f0e5a144b42",
       "version_major": 2,
       "version_minor": 0
      },
      "text/plain": [
       "  0%|          | 0/17933 [00:00<?, ?it/s]"
      ]
     },
     "metadata": {},
     "output_type": "display_data"
    },
    {
     "name": "stdout",
     "output_type": "stream",
     "text": [
      "Inferring GRN for myeloid DC...\n"
     ]
    },
    {
     "data": {
      "application/vnd.jupyter.widget-view+json": {
       "model_id": "ad11e151c75f45ac9853f4613a56366e",
       "version_major": 2,
       "version_minor": 0
      },
      "text/plain": [
       "  0%|          | 0/17933 [00:00<?, ?it/s]"
      ]
     },
     "metadata": {},
     "output_type": "display_data"
    },
    {
     "name": "stdout",
     "output_type": "stream",
     "text": [
      "Inferring GRN for naive B cells...\n"
     ]
    },
    {
     "data": {
      "application/vnd.jupyter.widget-view+json": {
       "model_id": "b04cea8ced704a738d32675d3183570e",
       "version_major": 2,
       "version_minor": 0
      },
      "text/plain": [
       "  0%|          | 0/17933 [00:00<?, ?it/s]"
      ]
     },
     "metadata": {},
     "output_type": "display_data"
    },
    {
     "name": "stdout",
     "output_type": "stream",
     "text": [
      "Inferring GRN for naive CD4 T cells...\n"
     ]
    },
    {
     "data": {
      "application/vnd.jupyter.widget-view+json": {
       "model_id": "061b7b2227f64662b85b7d90567cbca1",
       "version_major": 2,
       "version_minor": 0
      },
      "text/plain": [
       "  0%|          | 0/17933 [00:00<?, ?it/s]"
      ]
     },
     "metadata": {},
     "output_type": "display_data"
    },
    {
     "name": "stdout",
     "output_type": "stream",
     "text": [
      "Inferring GRN for naive CD8 T cells...\n"
     ]
    },
    {
     "data": {
      "application/vnd.jupyter.widget-view+json": {
       "model_id": "242f04ae374a4b2cba3c7ac3709d5b76",
       "version_major": 2,
       "version_minor": 0
      },
      "text/plain": [
       "  0%|          | 0/17933 [00:00<?, ?it/s]"
      ]
     },
     "metadata": {},
     "output_type": "display_data"
    },
    {
     "name": "stdout",
     "output_type": "stream",
     "text": [
      "Inferring GRN for non-classical monocytes...\n"
     ]
    },
    {
     "data": {
      "application/vnd.jupyter.widget-view+json": {
       "model_id": "97b4955f24ab45d495142156fa3d15f7",
       "version_major": 2,
       "version_minor": 0
      },
      "text/plain": [
       "  0%|          | 0/17933 [00:00<?, ?it/s]"
      ]
     },
     "metadata": {},
     "output_type": "display_data"
    },
    {
     "name": "stdout",
     "output_type": "stream",
     "text": [
      "Inferring GRN for plasmacytoid DC...\n"
     ]
    },
    {
     "data": {
      "application/vnd.jupyter.widget-view+json": {
       "model_id": "75adaf534d1644b0825d3ac10d0a0db3",
       "version_major": 2,
       "version_minor": 0
      },
      "text/plain": [
       "  0%|          | 0/17933 [00:00<?, ?it/s]"
      ]
     },
     "metadata": {},
     "output_type": "display_data"
    }
   ],
   "source": [
    "import celloracle as co\n",
    "base_GRN = co.data.load_human_promoter_base_GRN(version='hg38_gimmemotifsv5_fpr2')\n",
    "adata_co = adata_RNA_all.copy()\n",
    "# sc.pp.highly_variable_genes(adata_co, n_top_genes=2000, flavor='cell_ranger')\n",
    "# adata_co = adata_co[:, adata_co.var.highly_variable]\n",
    "sc.tl.pca(adata_co)\n",
    "adata_co.layers['raw_count'] = adata_co.X.copy()\n",
    "oracle = co.Oracle()\n",
    "oracle.import_anndata_as_normalized_count(adata=adata_co, cluster_column_name=\"label\", embedding_name=\"X_pca\")\n",
    "oracle.import_TF_data(TF_info_matrix=base_GRN)\n",
    "oracle.perform_PCA()\n",
    "n_comps = np.where(np.diff(np.diff(np.cumsum(oracle.pca.explained_variance_ratio_))>0.002))[0][0]\n",
    "n_comps = min(n_comps, 50)\n",
    "n_cell = oracle.adata.shape[0]\n",
    "k = int(0.025*n_cell)\n",
    "oracle.knn_imputation(n_pca_dims=n_comps, k=k, balanced=True, b_sight=k*8, b_maxl=k*4, n_jobs=4)\n",
    "links = oracle.get_links(cluster_name_for_GRN_unit=\"label\", alpha=10, verbose_level=10, model_method='bayesian_ridge')\n",
    "links.filter_links(p=0.001, weight=\"coef_abs\", threshold_number=2000)\n",
    "links.get_network_score()"
   ]
  },
  {
   "metadata": {},
   "cell_type": "code",
   "outputs": [],
   "execution_count": null,
   "source": "tf_tg_score_df_dict = {}",
   "id": "30292575498b220c"
  },
  {
   "cell_type": "code",
   "execution_count": 49,
   "id": "5ce0a10c-a96c-42a8-8bbb-d1a33153a65a",
   "metadata": {
    "scrolled": true
   },
   "outputs": [],
   "source": [
    "for idx, row in linger_used_table.iterrows():\n",
    "    celltype = row[2]\n",
    "    tfname = row[1]\n",
    "\n",
    "    t = pd.read_csv(output_dir + f'linger/cell_type_specific_trans_regulatory_{celltype}.txt', index_col=0, sep='\\t')  # TG x TF\n",
    "\n",
    "\n",
    "    \n",
    "    tf_tg_score_df_dict[(celltype, tfname)]['LINGER'] = t.loc[:, tfname]\n",
    "\n",
    "    tf_tg_score_df_dict[(celltype, tfname)]['LINGER'] = tf_tg_score_df_dict[(celltype, tfname)]['LINGER'].fillna(0)\n",
    "    "
   ]
  },
  {
   "cell_type": "code",
   "execution_count": 20,
   "id": "f238bbe9-62aa-40b8-9374-eaa9db551dca",
   "metadata": {
    "scrolled": true
   },
   "outputs": [],
   "source": [
    "for idx, row in linger_used_table.iterrows():\n",
    "    celltype = row[2]\n",
    "    tfname = row[1]\n",
    "\n",
    "    t = links.links_dict[celltype].loc[links.links_dict[celltype].source == tfname, ['target', 'coef_abs']]\n",
    "    t.index = t.target\n",
    "    t = t.iloc[:, [1]]\n",
    "\n",
    "\n",
    "    \n",
    "    tf_tg_score_df_dict[(celltype, tfname)]['CellOracle'] = t\n",
    "\n",
    "    tf_tg_score_df_dict[(celltype, tfname)]['CellOracle'] = tf_tg_score_df_dict[(celltype, tfname)]['CellOracle'].fillna(0)\n",
    "    "
   ]
  },
  {
   "cell_type": "code",
   "execution_count": 21,
   "id": "38240e2a-c4c0-48d7-b5fa-66b9bd2d036b",
   "metadata": {},
   "outputs": [],
   "source": [
    "import pickle\n",
    "with open(os.path.join(data_dir, 'dictys_res_dict.pkl'), 'rb') as f:\n",
    "    dictys_res_dict = pickle.load(f)\n",
    "\n",
    "for idx, row in linger_used_table.iterrows():\n",
    "    celltype = row[2]\n",
    "    tfname = row[1]\n",
    "\n",
    "    t = dictys_res_dict[(celltype, tfname)]\n",
    "\n",
    "    tf_tg_score_df_dict[(celltype, tfname)]['Dictys'] = t\n",
    "\n",
    "    tf_tg_score_df_dict[(celltype, tfname)]['Dictys'] = tf_tg_score_df_dict[(celltype, tfname)]['Dictys'].fillna(0)\n",
    "    "
   ]
  },
  {
   "cell_type": "code",
   "execution_count": 52,
   "id": "b7c2ef5c-845f-4baf-8530-cfde826bee2f",
   "metadata": {
    "scrolled": true
   },
   "outputs": [],
   "source": [
    "for idx, row in linger_used_table.iterrows():\n",
    "    celltype = row[2]\n",
    "    tfname = row[1]\n",
    "\n",
    "    tf_tg_interaction321 = tf_tg_interaction_dict321[(celltype, tfname)]\n",
    "    tf_tg_interaction_df2 = pd.DataFrame(tf_tg_interaction321.T, index=adata3.uns['TG_names'])\n",
    "    tf_tg_interaction_df2.rename(columns={0: 'score'}, inplace=True)\n",
    "    tf_tg_score_df_dict[(celltype, tfname)]['CauTrigger-321'] = tf_tg_interaction_df2\n",
    "    tf_tg_score_df_dict[(celltype, tfname)]['CauTrigger-321'] = tf_tg_score_df_dict[(celltype, tfname)]['CauTrigger-321'].fillna(0)"
   ]
  },
  {
   "cell_type": "code",
   "execution_count": 23,
   "id": "244b7db6-c4bd-4ea2-99df-ad26af9ac2cb",
   "metadata": {
    "scrolled": true
   },
   "outputs": [],
   "source": [
    "tftg_f1_dict_01 ={}\n",
    "tftg_f1_dict_02 ={}\n",
    "tftg_f1_dict_03 ={}\n",
    "\n",
    "\n",
    "for idx, row in linger_used_table.iterrows():\n",
    "    celltype = row[2]\n",
    "    tfname = row[1]\n",
    "\n",
    "    for method in ['CauTrigger-321', 'Dictys', 'LINGER', 'GENIE3', 'PCC', 'CellOracle']:\n",
    "          \n",
    "        if method not in tftg_auroc_dict_01:\n",
    "            tftg_f1_dict_01[method] = []\n",
    "            tftg_f1_dict_02[method] = []\n",
    "            tftg_f1_dict_03[method] = []\n",
    "\n",
    "        threshold = tf_tg_score_df_dict[(celltype, tfname)][method].quantile(0.9)\n",
    "        y_pred = (tf_tg_score_df_dict[(celltype, tfname)][method] >= threshold).astype(int)\n",
    "        tftg_f1_dict_01[method].append(f1_score(tf_tg_score_df_dict[(celltype, tfname)].hit, y_pred))\n",
    "\n",
    "        threshold = tf_tg_score_df_dict[(celltype, tfname)][method].quantile(0.85)\n",
    "        y_pred = (tf_tg_score_df_dict[(celltype, tfname)][method] >= threshold).astype(int)\n",
    "        tftg_f1_dict_02[method].append(f1_score(tf_tg_score_df_dict[(celltype, tfname)].hit, y_pred))\n",
    "\n",
    "        threshold = tf_tg_score_df_dict[(celltype, tfname)][method].quantile(0.8)\n",
    "        y_pred = (tf_tg_score_df_dict[(celltype, tfname)][method] >= threshold).astype(int)"
   ]
  },
  {
   "cell_type": "code",
   "execution_count": 40,
   "id": "18596cf6-de5b-49d2-922a-c104bf5e58c5",
   "metadata": {},
   "outputs": [],
   "source": [
    "def dict_to_long_df(metric_dict, metric_name):\n",
    "    df = pd.DataFrame([\n",
    "        {'Method': method, metric_name: value}\n",
    "        for method, values in metric_dict.items()\n",
    "        for value in values\n",
    "    ])\n",
    "    return df\n",
    "\n",
    "metrics = ['10', '15', '20']\n",
    "\n",
    "tftg_dfs = [\n",
    "    dict_to_long_df(eval(f\"tftg_f1_dict_0{idx+1}\"), metric)\n",
    "    for idx, metric in enumerate(metrics)\n",
    "]"
   ]
  },
  {
   "cell_type": "code",
   "execution_count": 48,
   "id": "2879059e-eb5a-414b-a812-eaeaf5a9d706",
   "metadata": {
    "scrolled": true
   },
   "outputs": [
    {
     "data": {
      "image/png": "[encoded data removed]",
      "text/plain": [
       "<Figure size 1200x500 with 3 Axes>"
      ]
     },
     "metadata": {},
     "output_type": "display_data"
    }
   ],
   "source": [
    "sns.set(style=\"white\")\n",
    "fig, axes = plt.subplots(1, 3, figsize=(12, 5))\n",
    "fig.suptitle(\"Benchmarking Results (Boxplot)\", fontsize=20)\n",
    "\n",
    "\n",
    "for i, metric in enumerate(metrics):\n",
    "    ax = axes[i]\n",
    "    sns.boxplot(\n",
    "        data=tftg_dfs[i],\n",
    "        x='Method',\n",
    "        y=metric,\n",
    "        ax=ax,\n",
    "        palette='tab10',\n",
    "        order=['CauTrigger-321', 'Dictys', 'CellOracle', 'LINGER', 'GENIE3', 'PCC']\n",
    "    )\n",
    "    ax.set_title(f\"Top {metric}%\")\n",
    "    ax.set_ylim(0, 1)\n",
    "    ax.set_xlabel(\"\")\n",
    "    ax.set_ylabel(\"F1-score\")\n",
    "    ax.tick_params(axis='x', rotation=45)\n",
    "\n",
    "plt.tight_layout()\n",
    "plt.show()"
   ]
  }
 ],
 "metadata": {
  "kernelspec": {
   "display_name": "Project_CT",
   "language": "python",
   "name": "project_ct"
  },
  "language_info": {
   "codemirror_mode": {
    "name": "ipython",
    "version": 3
   },
   "file_extension": ".py",
   "mimetype": "text/x-python",
   "name": "python",
   "nbconvert_exporter": "python",
   "pygments_lexer": "ipython3",
   "version": "3.10.13"
  },
  "widgets": {
   "application/vnd.jupyter.widget-state+json": {
    "state": {
     "017afd8fe0a841a1bb4eb6e1269bcb7a": {
      "model_module": "@jupyter-widgets/base",
      "model_module_version": "2.0.0",
      "model_name": "LayoutModel",
      "state": {}
     },
     "04b1d535439a493994ce7ab16d36420f": {
      "model_module": "@jupyter-widgets/controls",
      "model_module_version": "2.0.0",
      "model_name": "HTMLStyleModel",
      "state": {
       "description_width": "",
       "font_size": null,
       "text_color": null
      }
     },
     "061b7b2227f64662b85b7d90567cbca1": {
      "model_module": "@jupyter-widgets/controls",
      "model_module_version": "2.0.0",
      "model_name": "HBoxModel",
      "state": {
       "children": [
        "IPY_MODEL_75d86d673329494986a7894e7f431c3d",
        "IPY_MODEL_f53c287f7a2a44d499e2ebcd4c34de16",
        "IPY_MODEL_979f8c36e743463b8e6ce3eecdd2fd21"
       ],
       "layout": "IPY_MODEL_fb339e14742f45cc91b346fb0f55c911"
      }
     },
     "06cd5c7415bc4850982c9684c35cff52": {
      "model_module": "@jupyter-widgets/controls",
      "model_module_version": "2.0.0",
      "model_name": "HBoxModel",
      "state": {
       "children": [
        "IPY_MODEL_f12d5ad22c58442cb4700914dbbd1b01",
        "IPY_MODEL_ae76bdb198004d54ad87002f11a25547",
        "IPY_MODEL_de7f1e673a7141208e2dc66e8751a712"
       ],
       "layout": "IPY_MODEL_87fbde6859004a6bb22276a539bcf8c1"
      }
     },
     "086c896bb45d49daa130240483f9ecaa": {
      "model_module": "@jupyter-widgets/base",
      "model_module_version": "2.0.0",
      "model_name": "LayoutModel",
      "state": {}
     },
     "09478cd3db854a4d8b6f350807dfecd7": {
      "model_module": "@jupyter-widgets/controls",
      "model_module_version": "2.0.0",
      "model_name": "HBoxModel",
      "state": {
       "children": [
        "IPY_MODEL_27446e129e8c4e60a71fab0141924b4b",
        "IPY_MODEL_7340e594da974901bb30ac14c8705443",
        "IPY_MODEL_729d36945d3a44d383d352b70123daca"
       ],
       "layout": "IPY_MODEL_ad76de51f56f409c9ea6649488a6c666"
      }
     },
     "0a86439ae7564d38b7fe679448c2dd81": {
      "model_module": "@jupyter-widgets/controls",
      "model_module_version": "2.0.0",
      "model_name": "FloatProgressModel",
      "state": {
       "bar_style": "success",
       "layout": "IPY_MODEL_59fe85da4af043e28a908be7429ae93a",
       "max": 17933,
       "style": "IPY_MODEL_4e7e77401bda41d193e1deccd38e4655",
       "value": 17933
      }
     },
     "0ec1e2b04c324ffcb1555d1ce49345d6": {
      "model_module": "@jupyter-widgets/controls",
      "model_module_version": "2.0.0",
      "model_name": "HTMLStyleModel",
      "state": {
       "description_width": "",
       "font_size": null,
       "text_color": null
      }
     },
     "0fd3fefd3f704df3bf2b4d235dce7299": {
      "model_module": "@jupyter-widgets/base",
      "model_module_version": "2.0.0",
      "model_name": "LayoutModel",
      "state": {}
     },
     "11a5949ac1e7414db2702d9536fef022": {
      "model_module": "@jupyter-widgets/base",
      "model_module_version": "2.0.0",
      "model_name": "LayoutModel",
      "state": {}
     },
     "14aff6f2db4242a48f70bf6e2776d146": {
      "model_module": "@jupyter-widgets/controls",
      "model_module_version": "2.0.0",
      "model_name": "HTMLStyleModel",
      "state": {
       "description_width": "",
       "font_size": null,
       "text_color": null
      }
     },
     "167f334053134ef7a666fac05fc76708": {
      "model_module": "@jupyter-widgets/base",
      "model_module_version": "2.0.0",
      "model_name": "LayoutModel",
      "state": {}
     },
     "16eb7aae418e417588dfd08131af7a42": {
      "model_module": "@jupyter-widgets/base",
      "model_module_version": "2.0.0",
      "model_name": "LayoutModel",
      "state": {}
     },
     "1c88763f2b3241ac90be218cbda86753": {
      "model_module": "@jupyter-widgets/controls",
      "model_module_version": "2.0.0",
      "model_name": "HTMLModel",
      "state": {
       "layout": "IPY_MODEL_f7f7081142814acea4ab3ce0cb079b81",
       "style": "IPY_MODEL_bc4e4cb615304cdea19e1d8969e1e5d5",
       "value": " 14/14 [2:49:17&lt;00:00, 698.08s/it]"
      }
     },
     "1d42bc26d9e043e0b4acb5b5369f6711": {
      "model_module": "@jupyter-widgets/controls",
      "model_module_version": "2.0.0",
      "model_name": "HTMLModel",
      "state": {
       "layout": "IPY_MODEL_017afd8fe0a841a1bb4eb6e1269bcb7a",
       "style": "IPY_MODEL_9ff5c6b61c6e4b459086e737f505d859",
       "value": "100%"
      }
     },
     "1dc6985b6c834862931b0c7d425ca58e": {
      "model_module": "@jupyter-widgets/base",
      "model_module_version": "2.0.0",
      "model_name": "LayoutModel",
      "state": {}
     },
     "202437b0a63c4db8926224cdbb5dba7d": {
      "model_module": "@jupyter-widgets/controls",
      "model_module_version": "2.0.0",
      "model_name": "HTMLStyleModel",
      "state": {
       "description_width": "",
       "font_size": null,
       "text_color": null
      }
     },
     "2044739c4cff458fbb68cee59be3f32a": {
      "model_module": "@jupyter-widgets/controls",
      "model_module_version": "2.0.0",
      "model_name": "FloatProgressModel",
      "state": {
       "bar_style": "success",
       "layout": "IPY_MODEL_b84133eae53b40bbbc53b77d3bf59d9b",
       "max": 17933,
       "style": "IPY_MODEL_a90bd5296e31495087f799b58397a444",
       "value": 17933
      }
     },
     "2347c4fea8f5416c8e886c984c32faf7": {
      "model_module": "@jupyter-widgets/base",
      "model_module_version": "2.0.0",
      "model_name": "LayoutModel",
      "state": {}
     },
     "242f04ae374a4b2cba3c7ac3709d5b76": {
      "model_module": "@jupyter-widgets/controls",
      "model_module_version": "2.0.0",
      "model_name": "HBoxModel",
      "state": {
       "children": [
        "IPY_MODEL_f473f52c5067469aa73bd333c57e23f4",
        "IPY_MODEL_0a86439ae7564d38b7fe679448c2dd81",
        "IPY_MODEL_d85bc9d985494aa6ac2a30f376993297"
       ],
       "layout": "IPY_MODEL_e6c2d912e2a047cbaf31f49481c5939d"
      }
     },
     "25c3acc0f35d4e0984af568967f6686d": {
      "model_module": "@jupyter-widgets/base",
      "model_module_version": "2.0.0",
      "model_name": "LayoutModel",
      "state": {}
     },
     "27446e129e8c4e60a71fab0141924b4b": {
      "model_module": "@jupyter-widgets/controls",
      "model_module_version": "2.0.0",
      "model_name": "HTMLModel",
      "state": {
       "layout": "IPY_MODEL_71db0b43c5ec4254a04c59c1c5ffff87",
       "style": "IPY_MODEL_4e1ece3919a64a1ca0104705bdc481ea",
       "value": "100%"
      }
     },
     "27dfd50c1e6940e1a1fe30534ce20f9d": {
      "model_module": "@jupyter-widgets/base",
      "model_module_version": "2.0.0",
      "model_name": "LayoutModel",
      "state": {}
     },
     "2a5e9f2ddf054f638aad5bc0bc6fe14e": {
      "model_module": "@jupyter-widgets/controls",
      "model_module_version": "2.0.0",
      "model_name": "HTMLStyleModel",
      "state": {
       "description_width": "",
       "font_size": null,
       "text_color": null
      }
     },
     "2c4680117d7f4f4991568df9564663e5": {
      "model_module": "@jupyter-widgets/controls",
      "model_module_version": "2.0.0",
      "model_name": "HTMLModel",
      "state": {
       "layout": "IPY_MODEL_11a5949ac1e7414db2702d9536fef022",
       "style": "IPY_MODEL_5ae120f82bc8429496432d5d134ea869",
       "value": " 17933/17933 [11:47&lt;00:00, 19.87it/s]"
      }
     },
     "2c65e2d30bbf40e8a3c8425f9e2e6ff7": {
      "model_module": "@jupyter-widgets/controls",
      "model_module_version": "2.0.0",
      "model_name": "HTMLStyleModel",
      "state": {
       "description_width": "",
       "font_size": null,
       "text_color": null
      }
     },
     "2c94783f917c4fceae5c44aeeb5bb482": {
      "model_module": "@jupyter-widgets/controls",
      "model_module_version": "2.0.0",
      "model_name": "HTMLModel",
      "state": {
       "layout": "IPY_MODEL_341ff867ae584ff2b40d199aeb47cb34",
       "style": "IPY_MODEL_2fc9141245464178954375b6e354f7d9",
       "value": " 17933/17933 [08:25&lt;00:00, 38.19it/s]"
      }
     },
     "2d5fc9c7525e4b5ebb48cf0919aa5c6a": {
      "model_module": "@jupyter-widgets/base",
      "model_module_version": "2.0.0",
      "model_name": "LayoutModel",
      "state": {}
     },
     "2e64e803990b40edbc069f83b794c8cc": {
      "model_module": "@jupyter-widgets/controls",
      "model_module_version": "2.0.0",
      "model_name": "ProgressStyleModel",
      "state": {
       "description_width": ""
      }
     },
     "2e7087e67d16438c9a1e5d80a325eeb3": {
      "model_module": "@jupyter-widgets/controls",
      "model_module_version": "2.0.0",
      "model_name": "HBoxModel",
      "state": {
       "children": [
        "IPY_MODEL_b8982544a6274798aa2be2e1644012d3",
        "IPY_MODEL_48b6a10b8cd94a45a0c4ffd799120a11",
        "IPY_MODEL_b23643ca5c13429b9f175cd0f9e6aed7"
       ],
       "layout": "IPY_MODEL_791d8e870b73466189d56ac77285b997"
      }
     },
     "2fc9141245464178954375b6e354f7d9": {
      "model_module": "@jupyter-widgets/controls",
      "model_module_version": "2.0.0",
      "model_name": "HTMLStyleModel",
      "state": {
       "description_width": "",
       "font_size": null,
       "text_color": null
      }
     },
     "32bccfa2712643c3954159f294c9004c": {
      "model_module": "@jupyter-widgets/controls",
      "model_module_version": "2.0.0",
      "model_name": "HTMLStyleModel",
      "state": {
       "description_width": "",
       "font_size": null,
       "text_color": null
      }
     },
     "341ff867ae584ff2b40d199aeb47cb34": {
      "model_module": "@jupyter-widgets/base",
      "model_module_version": "2.0.0",
      "model_name": "LayoutModel",
      "state": {}
     },
     "3579218b7565496b87223f884503ed4d": {
      "model_module": "@jupyter-widgets/base",
      "model_module_version": "2.0.0",
      "model_name": "LayoutModel",
      "state": {}
     },
     "3bdfb80549fd43b38439a29afa25ca75": {
      "model_module": "@jupyter-widgets/controls",
      "model_module_version": "2.0.0",
      "model_name": "ProgressStyleModel",
      "state": {
       "description_width": ""
      }
     },
     "3da0876111164ade9547fd5db921372d": {
      "model_module": "@jupyter-widgets/base",
      "model_module_version": "2.0.0",
      "model_name": "LayoutModel",
      "state": {}
     },
     "3dbc7bdc0c7240f2b1ab381e14e9a886": {
      "model_module": "@jupyter-widgets/base",
      "model_module_version": "2.0.0",
      "model_name": "LayoutModel",
      "state": {}
     },
     "3de01de4fdc54ea2b296275012289881": {
      "model_module": "@jupyter-widgets/base",
      "model_module_version": "2.0.0",
      "model_name": "LayoutModel",
      "state": {}
     },
     "427bcecfb7de4b7b8befb303f127e798": {
      "model_module": "@jupyter-widgets/controls",
      "model_module_version": "2.0.0",
      "model_name": "FloatProgressModel",
      "state": {
       "bar_style": "success",
       "layout": "IPY_MODEL_ccac523692f9472983ec3aa553446464",
       "max": 17933,
       "style": "IPY_MODEL_a978d14ffeec4244837a32da429afd2b",
       "value": 17933
      }
     },
     "449ca4ad9641439fa55f09a90802fced": {
      "model_module": "@jupyter-widgets/base",
      "model_module_version": "2.0.0",
      "model_name": "LayoutModel",
      "state": {}
     },
     "44c0b1360c1148fabf68adf76c0321f1": {
      "model_module": "@jupyter-widgets/controls",
      "model_module_version": "2.0.0",
      "model_name": "HTMLStyleModel",
      "state": {
       "description_width": "",
       "font_size": null,
       "text_color": null
      }
     },
     "454696ce49ae4128a7c209bb41c860cd": {
      "model_module": "@jupyter-widgets/controls",
      "model_module_version": "2.0.0",
      "model_name": "HTMLStyleModel",
      "state": {
       "description_width": "",
       "font_size": null,
       "text_color": null
      }
     },
     "464e710f9a1c402599ab30ab1924a926": {
      "model_module": "@jupyter-widgets/controls",
      "model_module_version": "2.0.0",
      "model_name": "HTMLStyleModel",
      "state": {
       "description_width": "",
       "font_size": null,
       "text_color": null
      }
     },
     "467bce17bf9449af8b1fbe7b9e50403b": {
      "model_module": "@jupyter-widgets/base",
      "model_module_version": "2.0.0",
      "model_name": "LayoutModel",
      "state": {}
     },
     "47042a98de1b4e6bb0de7c62ff8e0d40": {
      "model_module": "@jupyter-widgets/controls",
      "model_module_version": "2.0.0",
      "model_name": "HTMLModel",
      "state": {
       "layout": "IPY_MODEL_471c937c39194863b1965163815e652a",
       "style": "IPY_MODEL_454696ce49ae4128a7c209bb41c860cd",
       "value": "100%"
      }
     },
     "471c937c39194863b1965163815e652a": {
      "model_module": "@jupyter-widgets/base",
      "model_module_version": "2.0.0",
      "model_name": "LayoutModel",
      "state": {}
     },
     "48b6a10b8cd94a45a0c4ffd799120a11": {
      "model_module": "@jupyter-widgets/controls",
      "model_module_version": "2.0.0",
      "model_name": "FloatProgressModel",
      "state": {
       "bar_style": "success",
       "layout": "IPY_MODEL_1dc6985b6c834862931b0c7d425ca58e",
       "max": 17933,
       "style": "IPY_MODEL_ceabdc11db10448fbd20bab5f99c1e72",
       "value": 17933
      }
     },
     "49959d8551d94dcab9e98b269d04d88e": {
      "model_module": "@jupyter-widgets/controls",
      "model_module_version": "2.0.0",
      "model_name": "ProgressStyleModel",
      "state": {
       "description_width": ""
      }
     },
     "4b1020c20a9b45d6b7bb4296c9cf30c2": {
      "model_module": "@jupyter-widgets/controls",
      "model_module_version": "2.0.0",
      "model_name": "HTMLModel",
      "state": {
       "layout": "IPY_MODEL_3da0876111164ade9547fd5db921372d",
       "style": "IPY_MODEL_6230a9cff69b436ca0036022317dae8d",
       "value": "100%"
      }
     },
     "4c3d5ceb6e674445b3adef5805b1569a": {
      "model_module": "@jupyter-widgets/controls",
      "model_module_version": "2.0.0",
      "model_name": "ProgressStyleModel",
      "state": {
       "description_width": ""
      }
     },
     "4e1ece3919a64a1ca0104705bdc481ea": {
      "model_module": "@jupyter-widgets/controls",
      "model_module_version": "2.0.0",
      "model_name": "HTMLStyleModel",
      "state": {
       "description_width": "",
       "font_size": null,
       "text_color": null
      }
     },
     "4e7e77401bda41d193e1deccd38e4655": {
      "model_module": "@jupyter-widgets/controls",
      "model_module_version": "2.0.0",
      "model_name": "ProgressStyleModel",
      "state": {
       "description_width": ""
      }
     },
     "4fa344141f3e4984b3f55f0e5a144b42": {
      "model_module": "@jupyter-widgets/controls",
      "model_module_version": "2.0.0",
      "model_name": "HBoxModel",
      "state": {
       "children": [
        "IPY_MODEL_d313cc9ab62c469aaf5433a8b4900fc4",
        "IPY_MODEL_ec804f55589c47dcb213e287cae113ed",
        "IPY_MODEL_5a70605b2e714a948d072a293318540a"
       ],
       "layout": "IPY_MODEL_16eb7aae418e417588dfd08131af7a42"
      }
     },
     "5141b77a290548599bd8decc2fb6f145": {
      "model_module": "@jupyter-widgets/controls",
      "model_module_version": "2.0.0",
      "model_name": "HTMLStyleModel",
      "state": {
       "description_width": "",
       "font_size": null,
       "text_color": null
      }
     },
     "526a134add6444fb87fc5fe94b4a26d5": {
      "model_module": "@jupyter-widgets/base",
      "model_module_version": "2.0.0",
      "model_name": "LayoutModel",
      "state": {}
     },
     "530843c5bd44479f860feb30b41fb19b": {
      "model_module": "@jupyter-widgets/base",
      "model_module_version": "2.0.0",
      "model_name": "LayoutModel",
      "state": {}
     },
     "59fe85da4af043e28a908be7429ae93a": {
      "model_module": "@jupyter-widgets/base",
      "model_module_version": "2.0.0",
      "model_name": "LayoutModel",
      "state": {}
     },
     "5a0cffb5ae5b4a64aeac0f3e0f49fb59": {
      "model_module": "@jupyter-widgets/controls",
      "model_module_version": "2.0.0",
      "model_name": "HBoxModel",
      "state": {
       "children": [
        "IPY_MODEL_ad71527044f14f5e8e84220498bdd2a7",
        "IPY_MODEL_2044739c4cff458fbb68cee59be3f32a",
        "IPY_MODEL_8435bb9e32154438b3e81313b5227063"
       ],
       "layout": "IPY_MODEL_d25b9336f6d346a58ad255d1df6ae803"
      }
     },
     "5a70605b2e714a948d072a293318540a": {
      "model_module": "@jupyter-widgets/controls",
      "model_module_version": "2.0.0",
      "model_name": "HTMLModel",
      "state": {
       "layout": "IPY_MODEL_e58bbcd5b6284f6fa93a7f725de9ef39",
       "style": "IPY_MODEL_732d8f2a8f664315b81b251161a921d4",
       "value": " 17933/17933 [14:27&lt;00:00, 22.53it/s]"
      }
     },
     "5ae120f82bc8429496432d5d134ea869": {
      "model_module": "@jupyter-widgets/controls",
      "model_module_version": "2.0.0",
      "model_name": "HTMLStyleModel",
      "state": {
       "description_width": "",
       "font_size": null,
       "text_color": null
      }
     },
     "60a3b93ae5df4cdeaf8542f0355c68f4": {
      "model_module": "@jupyter-widgets/controls",
      "model_module_version": "2.0.0",
      "model_name": "HTMLStyleModel",
      "state": {
       "description_width": "",
       "font_size": null,
       "text_color": null
      }
     },
     "61dde07b12b34b099ac38015592ae425": {
      "model_module": "@jupyter-widgets/controls",
      "model_module_version": "2.0.0",
      "model_name": "HTMLStyleModel",
      "state": {
       "description_width": "",
       "font_size": null,
       "text_color": null
      }
     },
     "62017599f3664dcfabb517f2a41f37a9": {
      "model_module": "@jupyter-widgets/controls",
      "model_module_version": "2.0.0",
      "model_name": "ProgressStyleModel",
      "state": {
       "description_width": ""
      }
     },
     "6230a9cff69b436ca0036022317dae8d": {
      "model_module": "@jupyter-widgets/controls",
      "model_module_version": "2.0.0",
      "model_name": "HTMLStyleModel",
      "state": {
       "description_width": "",
       "font_size": null,
       "text_color": null
      }
     },
     "640b5c61c6cc4f6585a07e06d241cbd2": {
      "model_module": "@jupyter-widgets/controls",
      "model_module_version": "2.0.0",
      "model_name": "FloatProgressModel",
      "state": {
       "bar_style": "success",
       "layout": "IPY_MODEL_69e6521384b2462c8555a6d51d594078",
       "max": 14,
       "style": "IPY_MODEL_a9b93507f7c64e1aac6a919e975ed5bb",
       "value": 14
      }
     },
     "64e8e0783181455d9384aadd20253bca": {
      "model_module": "@jupyter-widgets/controls",
      "model_module_version": "2.0.0",
      "model_name": "HTMLStyleModel",
      "state": {
       "description_width": "",
       "font_size": null,
       "text_color": null
      }
     },
     "65963e98a67b4aea92973ebd06b497d9": {
      "model_module": "@jupyter-widgets/base",
      "model_module_version": "2.0.0",
      "model_name": "LayoutModel",
      "state": {}
     },
     "69b1d3d3951d44afa7302f5b2aff4e76": {
      "model_module": "@jupyter-widgets/controls",
      "model_module_version": "2.0.0",
      "model_name": "HTMLStyleModel",
      "state": {
       "description_width": "",
       "font_size": null,
       "text_color": null
      }
     },
     "69e6521384b2462c8555a6d51d594078": {
      "model_module": "@jupyter-widgets/base",
      "model_module_version": "2.0.0",
      "model_name": "LayoutModel",
      "state": {}
     },
     "6bcd723432b741fdb95bc4e3725823f1": {
      "model_module": "@jupyter-widgets/base",
      "model_module_version": "2.0.0",
      "model_name": "LayoutModel",
      "state": {}
     },
     "71cf49ff16b041c8a3a947bf5a298e29": {
      "model_module": "@jupyter-widgets/base",
      "model_module_version": "2.0.0",
      "model_name": "LayoutModel",
      "state": {}
     },
     "71db0b43c5ec4254a04c59c1c5ffff87": {
      "model_module": "@jupyter-widgets/base",
      "model_module_version": "2.0.0",
      "model_name": "LayoutModel",
      "state": {}
     },
     "71efc395904f4715b3e9e419ef995651": {
      "model_module": "@jupyter-widgets/base",
      "model_module_version": "2.0.0",
      "model_name": "LayoutModel",
      "state": {}
     },
     "729d36945d3a44d383d352b70123daca": {
      "model_module": "@jupyter-widgets/controls",
      "model_module_version": "2.0.0",
      "model_name": "HTMLModel",
      "state": {
       "layout": "IPY_MODEL_a49225e821ef410b8a9b860d6864c225",
       "style": "IPY_MODEL_8b35634c19c24f689eb573bcbf7ec32a",
       "value": " 17933/17933 [11:38&lt;00:00, 31.06it/s]"
      }
     },
     "732d8f2a8f664315b81b251161a921d4": {
      "model_module": "@jupyter-widgets/controls",
      "model_module_version": "2.0.0",
      "model_name": "HTMLStyleModel",
      "state": {
       "description_width": "",
       "font_size": null,
       "text_color": null
      }
     },
     "7340e594da974901bb30ac14c8705443": {
      "model_module": "@jupyter-widgets/controls",
      "model_module_version": "2.0.0",
      "model_name": "FloatProgressModel",
      "state": {
       "bar_style": "success",
       "layout": "IPY_MODEL_e8ffebbaeed34c48ac1bb04d01a1c24f",
       "max": 17933,
       "style": "IPY_MODEL_49959d8551d94dcab9e98b269d04d88e",
       "value": 17933
      }
     },
     "75adaf534d1644b0825d3ac10d0a0db3": {
      "model_module": "@jupyter-widgets/controls",
      "model_module_version": "2.0.0",
      "model_name": "HBoxModel",
      "state": {
       "children": [
        "IPY_MODEL_4b1020c20a9b45d6b7bb4296c9cf30c2",
        "IPY_MODEL_bd51d4c97def4c3e8ebfdc7deefeb134",
        "IPY_MODEL_2c94783f917c4fceae5c44aeeb5bb482"
       ],
       "layout": "IPY_MODEL_92080a27070646f5ae54ef0e8af8d32f"
      }
     },
     "75d86d673329494986a7894e7f431c3d": {
      "model_module": "@jupyter-widgets/controls",
      "model_module_version": "2.0.0",
      "model_name": "HTMLModel",
      "state": {
       "layout": "IPY_MODEL_9505978ea1e3418aa553e8bc5a2646a4",
       "style": "IPY_MODEL_64e8e0783181455d9384aadd20253bca",
       "value": "100%"
      }
     },
     "7906daafaa7248e995cbe762335ccc59": {
      "model_module": "@jupyter-widgets/controls",
      "model_module_version": "2.0.0",
      "model_name": "HBoxModel",
      "state": {
       "children": [
        "IPY_MODEL_47042a98de1b4e6bb0de7c62ff8e0d40",
        "IPY_MODEL_427bcecfb7de4b7b8befb303f127e798",
        "IPY_MODEL_a155e80e10a84f998e2d3c51da490e21"
       ],
       "layout": "IPY_MODEL_71cf49ff16b041c8a3a947bf5a298e29"
      }
     },
     "791d8e870b73466189d56ac77285b997": {
      "model_module": "@jupyter-widgets/base",
      "model_module_version": "2.0.0",
      "model_name": "LayoutModel",
      "state": {}
     },
     "79df5d3379b04c2ab091568ed65060f4": {
      "model_module": "@jupyter-widgets/controls",
      "model_module_version": "2.0.0",
      "model_name": "HTMLStyleModel",
      "state": {
       "description_width": "",
       "font_size": null,
       "text_color": null
      }
     },
     "7c5a518902004c668df359a9c5996f36": {
      "model_module": "@jupyter-widgets/controls",
      "model_module_version": "2.0.0",
      "model_name": "HTMLStyleModel",
      "state": {
       "description_width": "",
       "font_size": null,
       "text_color": null
      }
     },
     "7d7e01e262a94199a8c11ea28508c007": {
      "model_module": "@jupyter-widgets/base",
      "model_module_version": "2.0.0",
      "model_name": "LayoutModel",
      "state": {}
     },
     "8435bb9e32154438b3e81313b5227063": {
      "model_module": "@jupyter-widgets/controls",
      "model_module_version": "2.0.0",
      "model_name": "HTMLModel",
      "state": {
       "layout": "IPY_MODEL_71efc395904f4715b3e9e419ef995651",
       "style": "IPY_MODEL_7c5a518902004c668df359a9c5996f36",
       "value": " 17933/17933 [11:53&lt;00:00, 28.87it/s]"
      }
     },
     "8450d81f9dac4f0e952ccc4613888011": {
      "model_module": "@jupyter-widgets/controls",
      "model_module_version": "2.0.0",
      "model_name": "HBoxModel",
      "state": {
       "children": [
        "IPY_MODEL_1d42bc26d9e043e0b4acb5b5369f6711",
        "IPY_MODEL_640b5c61c6cc4f6585a07e06d241cbd2",
        "IPY_MODEL_1c88763f2b3241ac90be218cbda86753"
       ],
       "layout": "IPY_MODEL_d33c665fb7a3442cb4bfee19eec53158"
      }
     },
     "85640cdc8c5b418ea472d85490821cdd": {
      "model_module": "@jupyter-widgets/base",
      "model_module_version": "2.0.0",
      "model_name": "LayoutModel",
      "state": {}
     },
     "873cd7155af447409ac26101bfe9f0da": {
      "model_module": "@jupyter-widgets/controls",
      "model_module_version": "2.0.0",
      "model_name": "HTMLModel",
      "state": {
       "layout": "IPY_MODEL_086c896bb45d49daa130240483f9ecaa",
       "style": "IPY_MODEL_9f2505fc80a847448589b7f98c0077da",
       "value": " 17933/17933 [11:23&lt;00:00, 29.66it/s]"
      }
     },
     "87fbde6859004a6bb22276a539bcf8c1": {
      "model_module": "@jupyter-widgets/base",
      "model_module_version": "2.0.0",
      "model_name": "LayoutModel",
      "state": {}
     },
     "8b35634c19c24f689eb573bcbf7ec32a": {
      "model_module": "@jupyter-widgets/controls",
      "model_module_version": "2.0.0",
      "model_name": "HTMLStyleModel",
      "state": {
       "description_width": "",
       "font_size": null,
       "text_color": null
      }
     },
     "8bf98962d88d402486a149c2c90ee95f": {
      "model_module": "@jupyter-widgets/controls",
      "model_module_version": "2.0.0",
      "model_name": "HTMLModel",
      "state": {
       "layout": "IPY_MODEL_526a134add6444fb87fc5fe94b4a26d5",
       "style": "IPY_MODEL_44c0b1360c1148fabf68adf76c0321f1",
       "value": "100%"
      }
     },
     "90ddfcd3a1434e48aafdc3f3e1879b20": {
      "model_module": "@jupyter-widgets/controls",
      "model_module_version": "2.0.0",
      "model_name": "HTMLModel",
      "state": {
       "layout": "IPY_MODEL_aff5c3f511bb410192e358f6c3f2c8fa",
       "style": "IPY_MODEL_464e710f9a1c402599ab30ab1924a926",
       "value": "100%"
      }
     },
     "92080a27070646f5ae54ef0e8af8d32f": {
      "model_module": "@jupyter-widgets/base",
      "model_module_version": "2.0.0",
      "model_name": "LayoutModel",
      "state": {}
     },
     "93148160bfba4bdf86f85059aaeeed05": {
      "model_module": "@jupyter-widgets/controls",
      "model_module_version": "2.0.0",
      "model_name": "ProgressStyleModel",
      "state": {
       "description_width": ""
      }
     },
     "9505978ea1e3418aa553e8bc5a2646a4": {
      "model_module": "@jupyter-widgets/base",
      "model_module_version": "2.0.0",
      "model_name": "LayoutModel",
      "state": {}
     },
     "95874838877346fbbfb786bdbdb0c0ba": {
      "model_module": "@jupyter-widgets/controls",
      "model_module_version": "2.0.0",
      "model_name": "HBoxModel",
      "state": {
       "children": [
        "IPY_MODEL_f90c6e80c3e54e7384ee8c5ca334ea7c",
        "IPY_MODEL_fd400537bd8a4c7097e60d45e5a97914",
        "IPY_MODEL_2c4680117d7f4f4991568df9564663e5"
       ],
       "layout": "IPY_MODEL_530843c5bd44479f860feb30b41fb19b"
      }
     },
     "979f8c36e743463b8e6ce3eecdd2fd21": {
      "model_module": "@jupyter-widgets/controls",
      "model_module_version": "2.0.0",
      "model_name": "HTMLModel",
      "state": {
       "layout": "IPY_MODEL_7d7e01e262a94199a8c11ea28508c007",
       "style": "IPY_MODEL_32bccfa2712643c3954159f294c9004c",
       "value": " 17933/17933 [14:42&lt;00:00, 20.54it/s]"
      }
     },
     "97b4955f24ab45d495142156fa3d15f7": {
      "model_module": "@jupyter-widgets/controls",
      "model_module_version": "2.0.0",
      "model_name": "HBoxModel",
      "state": {
       "children": [
        "IPY_MODEL_bcca1f383d8d4357813e0570bcbf18d8",
        "IPY_MODEL_9ed12949fb644a7797b5ebd37460ab6f",
        "IPY_MODEL_cde060e6e0f54af2910506c08aeda9ff"
       ],
       "layout": "IPY_MODEL_2347c4fea8f5416c8e886c984c32faf7"
      }
     },
     "97d555cf57904c42a6185a37f3656ca0": {
      "model_module": "@jupyter-widgets/base",
      "model_module_version": "2.0.0",
      "model_name": "LayoutModel",
      "state": {}
     },
     "9a46ae0796d84b7c808a7cb909d64706": {
      "model_module": "@jupyter-widgets/controls",
      "model_module_version": "2.0.0",
      "model_name": "HTMLStyleModel",
      "state": {
       "description_width": "",
       "font_size": null,
       "text_color": null
      }
     },
     "9a5e5210373d41c3898ba79608101d15": {
      "model_module": "@jupyter-widgets/base",
      "model_module_version": "2.0.0",
      "model_name": "LayoutModel",
      "state": {}
     },
     "9cb62cc44fc2491a89f8ae7c6b66938b": {
      "model_module": "@jupyter-widgets/controls",
      "model_module_version": "2.0.0",
      "model_name": "ProgressStyleModel",
      "state": {
       "description_width": ""
      }
     },
     "9ed12949fb644a7797b5ebd37460ab6f": {
      "model_module": "@jupyter-widgets/controls",
      "model_module_version": "2.0.0",
      "model_name": "FloatProgressModel",
      "state": {
       "bar_style": "success",
       "layout": "IPY_MODEL_85640cdc8c5b418ea472d85490821cdd",
       "max": 17933,
       "style": "IPY_MODEL_3bdfb80549fd43b38439a29afa25ca75",
       "value": 17933
      }
     },
     "9f2505fc80a847448589b7f98c0077da": {
      "model_module": "@jupyter-widgets/controls",
      "model_module_version": "2.0.0",
      "model_name": "HTMLStyleModel",
      "state": {
       "description_width": "",
       "font_size": null,
       "text_color": null
      }
     },
     "9ff5c6b61c6e4b459086e737f505d859": {
      "model_module": "@jupyter-widgets/controls",
      "model_module_version": "2.0.0",
      "model_name": "HTMLStyleModel",
      "state": {
       "description_width": "",
       "font_size": null,
       "text_color": null
      }
     },
     "a05b897422184ff78ca8d269c64bfcfc": {
      "model_module": "@jupyter-widgets/controls",
      "model_module_version": "2.0.0",
      "model_name": "HTMLStyleModel",
      "state": {
       "description_width": "",
       "font_size": null,
       "text_color": null
      }
     },
     "a155e80e10a84f998e2d3c51da490e21": {
      "model_module": "@jupyter-widgets/controls",
      "model_module_version": "2.0.0",
      "model_name": "HTMLModel",
      "state": {
       "layout": "IPY_MODEL_f72f93fbd2d14dfe9b597c56a2941e82",
       "style": "IPY_MODEL_69b1d3d3951d44afa7302f5b2aff4e76",
       "value": " 17933/17933 [14:50&lt;00:00, 20.62it/s]"
      }
     },
     "a49225e821ef410b8a9b860d6864c225": {
      "model_module": "@jupyter-widgets/base",
      "model_module_version": "2.0.0",
      "model_name": "LayoutModel",
      "state": {}
     },
     "a494b03c89c149069afcccbdfa50346e": {
      "model_module": "@jupyter-widgets/controls",
      "model_module_version": "2.0.0",
      "model_name": "HTMLModel",
      "state": {
       "layout": "IPY_MODEL_b9a8f9975f6e4a6d8b7416f27d339079",
       "style": "IPY_MODEL_9a46ae0796d84b7c808a7cb909d64706",
       "value": "100%"
      }
     },
     "a8cf167661ae46a587d56baa77c29adb": {
      "model_module": "@jupyter-widgets/base",
      "model_module_version": "2.0.0",
      "model_name": "LayoutModel",
      "state": {}
     },
     "a90bd5296e31495087f799b58397a444": {
      "model_module": "@jupyter-widgets/controls",
      "model_module_version": "2.0.0",
      "model_name": "ProgressStyleModel",
      "state": {
       "description_width": ""
      }
     },
     "a978d14ffeec4244837a32da429afd2b": {
      "model_module": "@jupyter-widgets/controls",
      "model_module_version": "2.0.0",
      "model_name": "ProgressStyleModel",
      "state": {
       "description_width": ""
      }
     },
     "a9b93507f7c64e1aac6a919e975ed5bb": {
      "model_module": "@jupyter-widgets/controls",
      "model_module_version": "2.0.0",
      "model_name": "ProgressStyleModel",
      "state": {
       "description_width": ""
      }
     },
     "ab5599ead6544340a2526c442aa0c3b5": {
      "model_module": "@jupyter-widgets/controls",
      "model_module_version": "2.0.0",
      "model_name": "HTMLModel",
      "state": {
       "layout": "IPY_MODEL_d0d98f0bdbe44b94b08cbe7f248fd065",
       "style": "IPY_MODEL_0ec1e2b04c324ffcb1555d1ce49345d6",
       "value": " 17933/17933 [10:29&lt;00:00, 31.89it/s]"
      }
     },
     "ad11e151c75f45ac9853f4613a56366e": {
      "model_module": "@jupyter-widgets/controls",
      "model_module_version": "2.0.0",
      "model_name": "HBoxModel",
      "state": {
       "children": [
        "IPY_MODEL_90ddfcd3a1434e48aafdc3f3e1879b20",
        "IPY_MODEL_c4df89fa65dc42228fd66df3887cbc87",
        "IPY_MODEL_ab5599ead6544340a2526c442aa0c3b5"
       ],
       "layout": "IPY_MODEL_e4d527ac873042ceb5da5d53926e3ffd"
      }
     },
     "ad71527044f14f5e8e84220498bdd2a7": {
      "model_module": "@jupyter-widgets/controls",
      "model_module_version": "2.0.0",
      "model_name": "HTMLModel",
      "state": {
       "layout": "IPY_MODEL_3579218b7565496b87223f884503ed4d",
       "style": "IPY_MODEL_202437b0a63c4db8926224cdbb5dba7d",
       "value": "100%"
      }
     },
     "ad76de51f56f409c9ea6649488a6c666": {
      "model_module": "@jupyter-widgets/base",
      "model_module_version": "2.0.0",
      "model_name": "LayoutModel",
      "state": {}
     },
     "ae76bdb198004d54ad87002f11a25547": {
      "model_module": "@jupyter-widgets/controls",
      "model_module_version": "2.0.0",
      "model_name": "FloatProgressModel",
      "state": {
       "bar_style": "success",
       "layout": "IPY_MODEL_27dfd50c1e6940e1a1fe30534ce20f9d",
       "max": 17933,
       "style": "IPY_MODEL_dbeda96b653d47dabb927f94e1181d84",
       "value": 17933
      }
     },
     "aff5c3f511bb410192e358f6c3f2c8fa": {
      "model_module": "@jupyter-widgets/base",
      "model_module_version": "2.0.0",
      "model_name": "LayoutModel",
      "state": {}
     },
     "b04cea8ced704a738d32675d3183570e": {
      "model_module": "@jupyter-widgets/controls",
      "model_module_version": "2.0.0",
      "model_name": "HBoxModel",
      "state": {
       "children": [
        "IPY_MODEL_a494b03c89c149069afcccbdfa50346e",
        "IPY_MODEL_dd223f52d2ec4a13be3bf0264161a1a5",
        "IPY_MODEL_873cd7155af447409ac26101bfe9f0da"
       ],
       "layout": "IPY_MODEL_167f334053134ef7a666fac05fc76708"
      }
     },
     "b113163bac4041738ac07a2cfdb7dc84": {
      "model_module": "@jupyter-widgets/base",
      "model_module_version": "2.0.0",
      "model_name": "LayoutModel",
      "state": {}
     },
     "b23643ca5c13429b9f175cd0f9e6aed7": {
      "model_module": "@jupyter-widgets/controls",
      "model_module_version": "2.0.0",
      "model_name": "HTMLModel",
      "state": {
       "layout": "IPY_MODEL_467bce17bf9449af8b1fbe7b9e50403b",
       "style": "IPY_MODEL_61dde07b12b34b099ac38015592ae425",
       "value": " 17933/17933 [07:25&lt;00:00, 37.86it/s]"
      }
     },
     "b6432af0f0924e4688fd26565bb8ac07": {
      "model_module": "@jupyter-widgets/controls",
      "model_module_version": "2.0.0",
      "model_name": "HTMLStyleModel",
      "state": {
       "description_width": "",
       "font_size": null,
       "text_color": null
      }
     },
     "b84133eae53b40bbbc53b77d3bf59d9b": {
      "model_module": "@jupyter-widgets/base",
      "model_module_version": "2.0.0",
      "model_name": "LayoutModel",
      "state": {}
     },
     "b8663db020124432b48d8c5300b62b7d": {
      "model_module": "@jupyter-widgets/base",
      "model_module_version": "2.0.0",
      "model_name": "LayoutModel",
      "state": {}
     },
     "b8982544a6274798aa2be2e1644012d3": {
      "model_module": "@jupyter-widgets/controls",
      "model_module_version": "2.0.0",
      "model_name": "HTMLModel",
      "state": {
       "layout": "IPY_MODEL_2d5fc9c7525e4b5ebb48cf0919aa5c6a",
       "style": "IPY_MODEL_60a3b93ae5df4cdeaf8542f0355c68f4",
       "value": "100%"
      }
     },
     "b9a8f9975f6e4a6d8b7416f27d339079": {
      "model_module": "@jupyter-widgets/base",
      "model_module_version": "2.0.0",
      "model_name": "LayoutModel",
      "state": {}
     },
     "bc4e4cb615304cdea19e1d8969e1e5d5": {
      "model_module": "@jupyter-widgets/controls",
      "model_module_version": "2.0.0",
      "model_name": "HTMLStyleModel",
      "state": {
       "description_width": "",
       "font_size": null,
       "text_color": null
      }
     },
     "bcb644d0d563426380c7b1562c76539f": {
      "model_module": "@jupyter-widgets/base",
      "model_module_version": "2.0.0",
      "model_name": "LayoutModel",
      "state": {}
     },
     "bcca1f383d8d4357813e0570bcbf18d8": {
      "model_module": "@jupyter-widgets/controls",
      "model_module_version": "2.0.0",
      "model_name": "HTMLModel",
      "state": {
       "layout": "IPY_MODEL_3dbc7bdc0c7240f2b1ab381e14e9a886",
       "style": "IPY_MODEL_5141b77a290548599bd8decc2fb6f145",
       "value": "100%"
      }
     },
     "bd51d4c97def4c3e8ebfdc7deefeb134": {
      "model_module": "@jupyter-widgets/controls",
      "model_module_version": "2.0.0",
      "model_name": "FloatProgressModel",
      "state": {
       "bar_style": "success",
       "layout": "IPY_MODEL_6bcd723432b741fdb95bc4e3725823f1",
       "max": 17933,
       "style": "IPY_MODEL_4c3d5ceb6e674445b3adef5805b1569a",
       "value": 17933
      }
     },
     "bda9702a52c7400dbeb50a5257889be7": {
      "model_module": "@jupyter-widgets/base",
      "model_module_version": "2.0.0",
      "model_name": "LayoutModel",
      "state": {}
     },
     "bf29c727c54d4471bef47559634e1ac1": {
      "model_module": "@jupyter-widgets/controls",
      "model_module_version": "2.0.0",
      "model_name": "HTMLStyleModel",
      "state": {
       "description_width": "",
       "font_size": null,
       "text_color": null
      }
     },
     "c34abc10993643898a8311a9aa9c0e63": {
      "model_module": "@jupyter-widgets/base",
      "model_module_version": "2.0.0",
      "model_name": "LayoutModel",
      "state": {}
     },
     "c4df89fa65dc42228fd66df3887cbc87": {
      "model_module": "@jupyter-widgets/controls",
      "model_module_version": "2.0.0",
      "model_name": "FloatProgressModel",
      "state": {
       "bar_style": "success",
       "layout": "IPY_MODEL_f1b1d74d76eb4fbf89608a64bf4c4624",
       "max": 17933,
       "style": "IPY_MODEL_93148160bfba4bdf86f85059aaeeed05",
       "value": 17933
      }
     },
     "ccac523692f9472983ec3aa553446464": {
      "model_module": "@jupyter-widgets/base",
      "model_module_version": "2.0.0",
      "model_name": "LayoutModel",
      "state": {}
     },
     "cde060e6e0f54af2910506c08aeda9ff": {
      "model_module": "@jupyter-widgets/controls",
      "model_module_version": "2.0.0",
      "model_name": "HTMLModel",
      "state": {
       "layout": "IPY_MODEL_25c3acc0f35d4e0984af568967f6686d",
       "style": "IPY_MODEL_2c65e2d30bbf40e8a3c8425f9e2e6ff7",
       "value": " 17933/17933 [11:11&lt;00:00, 29.75it/s]"
      }
     },
     "cdfff585ca66474186b4b8e16fe526b8": {
      "model_module": "@jupyter-widgets/controls",
      "model_module_version": "2.0.0",
      "model_name": "ProgressStyleModel",
      "state": {
       "description_width": ""
      }
     },
     "ceabdc11db10448fbd20bab5f99c1e72": {
      "model_module": "@jupyter-widgets/controls",
      "model_module_version": "2.0.0",
      "model_name": "ProgressStyleModel",
      "state": {
       "description_width": ""
      }
     },
     "d0d98f0bdbe44b94b08cbe7f248fd065": {
      "model_module": "@jupyter-widgets/base",
      "model_module_version": "2.0.0",
      "model_name": "LayoutModel",
      "state": {}
     },
     "d1e92999545f4758840d3b3de1c2cd20": {
      "model_module": "@jupyter-widgets/base",
      "model_module_version": "2.0.0",
      "model_name": "LayoutModel",
      "state": {}
     },
     "d25b9336f6d346a58ad255d1df6ae803": {
      "model_module": "@jupyter-widgets/base",
      "model_module_version": "2.0.0",
      "model_name": "LayoutModel",
      "state": {}
     },
     "d313cc9ab62c469aaf5433a8b4900fc4": {
      "model_module": "@jupyter-widgets/controls",
      "model_module_version": "2.0.0",
      "model_name": "HTMLModel",
      "state": {
       "layout": "IPY_MODEL_b8663db020124432b48d8c5300b62b7d",
       "style": "IPY_MODEL_2a5e9f2ddf054f638aad5bc0bc6fe14e",
       "value": "100%"
      }
     },
     "d33c665fb7a3442cb4bfee19eec53158": {
      "model_module": "@jupyter-widgets/base",
      "model_module_version": "2.0.0",
      "model_name": "LayoutModel",
      "state": {}
     },
     "d85bc9d985494aa6ac2a30f376993297": {
      "model_module": "@jupyter-widgets/controls",
      "model_module_version": "2.0.0",
      "model_name": "HTMLModel",
      "state": {
       "layout": "IPY_MODEL_c34abc10993643898a8311a9aa9c0e63",
       "style": "IPY_MODEL_bf29c727c54d4471bef47559634e1ac1",
       "value": " 17933/17933 [14:43&lt;00:00, 22.93it/s]"
      }
     },
     "d8acff7930664c09a23784a1fa883dd8": {
      "model_module": "@jupyter-widgets/controls",
      "model_module_version": "2.0.0",
      "model_name": "HBoxModel",
      "state": {
       "children": [
        "IPY_MODEL_8bf98962d88d402486a149c2c90ee95f",
        "IPY_MODEL_e44b5d678d7a427eb1f5a037f00af030",
        "IPY_MODEL_e24ab1b2bdc64496a306ecfdaad36dfb"
       ],
       "layout": "IPY_MODEL_65963e98a67b4aea92973ebd06b497d9"
      }
     },
     "dbeda96b653d47dabb927f94e1181d84": {
      "model_module": "@jupyter-widgets/controls",
      "model_module_version": "2.0.0",
      "model_name": "ProgressStyleModel",
      "state": {
       "description_width": ""
      }
     },
     "dd223f52d2ec4a13be3bf0264161a1a5": {
      "model_module": "@jupyter-widgets/controls",
      "model_module_version": "2.0.0",
      "model_name": "FloatProgressModel",
      "state": {
       "bar_style": "success",
       "layout": "IPY_MODEL_bda9702a52c7400dbeb50a5257889be7",
       "max": 17933,
       "style": "IPY_MODEL_f113ad4d885c43f692b6ba4cf23ef9a7",
       "value": 17933
      }
     },
     "de7f1e673a7141208e2dc66e8751a712": {
      "model_module": "@jupyter-widgets/controls",
      "model_module_version": "2.0.0",
      "model_name": "HTMLModel",
      "state": {
       "layout": "IPY_MODEL_d1e92999545f4758840d3b3de1c2cd20",
       "style": "IPY_MODEL_b6432af0f0924e4688fd26565bb8ac07",
       "value": " 17933/17933 [11:53&lt;00:00, 30.84it/s]"
      }
     },
     "e24ab1b2bdc64496a306ecfdaad36dfb": {
      "model_module": "@jupyter-widgets/controls",
      "model_module_version": "2.0.0",
      "model_name": "HTMLModel",
      "state": {
       "layout": "IPY_MODEL_bcb644d0d563426380c7b1562c76539f",
       "style": "IPY_MODEL_04b1d535439a493994ce7ab16d36420f",
       "value": " 17933/17933 [10:24&lt;00:00, 31.61it/s]"
      }
     },
     "e44b5d678d7a427eb1f5a037f00af030": {
      "model_module": "@jupyter-widgets/controls",
      "model_module_version": "2.0.0",
      "model_name": "FloatProgressModel",
      "state": {
       "bar_style": "success",
       "layout": "IPY_MODEL_449ca4ad9641439fa55f09a90802fced",
       "max": 17933,
       "style": "IPY_MODEL_2e64e803990b40edbc069f83b794c8cc",
       "value": 17933
      }
     },
     "e4d527ac873042ceb5da5d53926e3ffd": {
      "model_module": "@jupyter-widgets/base",
      "model_module_version": "2.0.0",
      "model_name": "LayoutModel",
      "state": {}
     },
     "e58bbcd5b6284f6fa93a7f725de9ef39": {
      "model_module": "@jupyter-widgets/base",
      "model_module_version": "2.0.0",
      "model_name": "LayoutModel",
      "state": {}
     },
     "e6c2d912e2a047cbaf31f49481c5939d": {
      "model_module": "@jupyter-widgets/base",
      "model_module_version": "2.0.0",
      "model_name": "LayoutModel",
      "state": {}
     },
     "e8ffebbaeed34c48ac1bb04d01a1c24f": {
      "model_module": "@jupyter-widgets/base",
      "model_module_version": "2.0.0",
      "model_name": "LayoutModel",
      "state": {}
     },
     "ec804f55589c47dcb213e287cae113ed": {
      "model_module": "@jupyter-widgets/controls",
      "model_module_version": "2.0.0",
      "model_name": "FloatProgressModel",
      "state": {
       "bar_style": "success",
       "layout": "IPY_MODEL_97d555cf57904c42a6185a37f3656ca0",
       "max": 17933,
       "style": "IPY_MODEL_62017599f3664dcfabb517f2a41f37a9",
       "value": 17933
      }
     },
     "f113ad4d885c43f692b6ba4cf23ef9a7": {
      "model_module": "@jupyter-widgets/controls",
      "model_module_version": "2.0.0",
      "model_name": "ProgressStyleModel",
      "state": {
       "description_width": ""
      }
     },
     "f12d5ad22c58442cb4700914dbbd1b01": {
      "model_module": "@jupyter-widgets/controls",
      "model_module_version": "2.0.0",
      "model_name": "HTMLModel",
      "state": {
       "layout": "IPY_MODEL_0fd3fefd3f704df3bf2b4d235dce7299",
       "style": "IPY_MODEL_79df5d3379b04c2ab091568ed65060f4",
       "value": "100%"
      }
     },
     "f1b1d74d76eb4fbf89608a64bf4c4624": {
      "model_module": "@jupyter-widgets/base",
      "model_module_version": "2.0.0",
      "model_name": "LayoutModel",
      "state": {}
     },
     "f473f52c5067469aa73bd333c57e23f4": {
      "model_module": "@jupyter-widgets/controls",
      "model_module_version": "2.0.0",
      "model_name": "HTMLModel",
      "state": {
       "layout": "IPY_MODEL_3de01de4fdc54ea2b296275012289881",
       "style": "IPY_MODEL_a05b897422184ff78ca8d269c64bfcfc",
       "value": "100%"
      }
     },
     "f53c287f7a2a44d499e2ebcd4c34de16": {
      "model_module": "@jupyter-widgets/controls",
      "model_module_version": "2.0.0",
      "model_name": "FloatProgressModel",
      "state": {
       "bar_style": "success",
       "layout": "IPY_MODEL_a8cf167661ae46a587d56baa77c29adb",
       "max": 17933,
       "style": "IPY_MODEL_cdfff585ca66474186b4b8e16fe526b8",
       "value": 17933
      }
     },
     "f72f93fbd2d14dfe9b597c56a2941e82": {
      "model_module": "@jupyter-widgets/base",
      "model_module_version": "2.0.0",
      "model_name": "LayoutModel",
      "state": {}
     },
     "f7f7081142814acea4ab3ce0cb079b81": {
      "model_module": "@jupyter-widgets/base",
      "model_module_version": "2.0.0",
      "model_name": "LayoutModel",
      "state": {}
     },
     "f90c6e80c3e54e7384ee8c5ca334ea7c": {
      "model_module": "@jupyter-widgets/controls",
      "model_module_version": "2.0.0",
      "model_name": "HTMLModel",
      "state": {
       "layout": "IPY_MODEL_b113163bac4041738ac07a2cfdb7dc84",
       "style": "IPY_MODEL_14aff6f2db4242a48f70bf6e2776d146",
       "value": "100%"
      }
     },
     "fb339e14742f45cc91b346fb0f55c911": {
      "model_module": "@jupyter-widgets/base",
      "model_module_version": "2.0.0",
      "model_name": "LayoutModel",
      "state": {}
     },
     "fd400537bd8a4c7097e60d45e5a97914": {
      "model_module": "@jupyter-widgets/controls",
      "model_module_version": "2.0.0",
      "model_name": "FloatProgressModel",
      "state": {
       "bar_style": "success",
       "layout": "IPY_MODEL_9a5e5210373d41c3898ba79608101d15",
       "max": 17933,
       "style": "IPY_MODEL_9cb62cc44fc2491a89f8ae7c6b66938b",
       "value": 17933
      }
     }
    },
    "version_major": 2,
    "version_minor": 0
   }
  }
 },
 "nbformat": 4,
 "nbformat_minor": 5
}
