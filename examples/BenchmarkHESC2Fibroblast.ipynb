{
 "cells": [
  {
   "metadata": {},
   "cell_type": "markdown",
   "source": "# Benchmark HESC to Fibroblast",
   "id": "f74b3d47edd27dd1"
  },
  {
   "metadata": {},
   "cell_type": "code",
   "outputs": [],
   "execution_count": 1,
   "source": [
    "import os\n",
    "import numpy as np\n",
    "import pandas as pd\n",
    "import anndata\n",
    "import scanpy as sc\n",
    "import seaborn as sns\n",
    "\n",
    "BASE_DIR = '/sibcb1/chenluonanlab8/caideyu/CauTrigger_new/'\n",
    "case_path = os.path.join(BASE_DIR, 'BenchmarkHESC/')\n",
    "data_path = os.path.join(case_path, 'data/')\n",
    "output_path = os.path.join(case_path, 'output/')\n",
    "os.makedirs(output_path, exist_ok=True)"
   ],
   "id": "fece686e-86e9-4357-9edf-7104f0617bf4"
  },
  {
   "cell_type": "code",
   "execution_count": 2,
   "id": "94623750-58e7-475e-8e68-e32e14346bd5",
   "metadata": {},
   "outputs": [],
   "source": [
    "Trrust = pd.read_table(os.path.join(data_path, 'trrust_rawdata.human.tsv'), header=None)\n",
    "Trrust_TF = Trrust.iloc[:, 0].dropna().unique()  # 827\n",
    "Trrust_nonTF = np.setdiff1d(Trrust.iloc[:, 1].dropna().unique(), Trrust_TF)  #1629"
   ]
  },
  {
   "cell_type": "code",
   "execution_count": 3,
   "id": "2246d5d8-a292-4c8f-9237-35ec2e359469",
   "metadata": {
    "scrolled": true
   },
   "outputs": [
    {
     "name": "stderr",
     "output_type": "stream",
     "text": [
      "/sibcb1/chenluonanlab8/caideyu/miniconda3/envs/Project_CT/lib/python3.10/site-packages/anndata/_core/anndata.py:430: FutureWarning: The dtype argument is deprecated and will be removed in late 2024.\n",
      "  warnings.warn(\n",
      "/var/tmp/ipykernel_219582/186452163.py:7: ImplicitModificationWarning: Trying to modify attribute `.obs` of view, initializing view as actual.\n",
      "  adata.obs['labels'] = adata.obs['cell_type'].map({'H1': 0, 'HFF': 1})\n"
     ]
    }
   ],
   "source": [
    "expData = pd.read_csv(os.path.join(data_path, 'GSE75748_sc_cell_type_ec.csv.gz'), index_col=0).transpose()\n",
    "\n",
    "adata = sc.AnnData(X=expData, dtype=np.float32)\n",
    "adata.obs['cell_type'] = [index.split('_')[0] for index in adata.obs.index]\n",
    "adata = adata[adata.obs['cell_type'].isin(['H1', 'HFF'])]\n",
    "adata.obs['labels'] = adata.obs['cell_type'].map({'H1': 0, 'HFF': 1})\n",
    "adata.obs['cell_type'] = adata.obs['cell_type'].map({'H1': 'ESC', 'HFF': 'Fibroblast'})\n",
    "sc.pp.normalize_total(adata, target_sum=1e4)\n",
    "sc.pp.log1p(adata)"
   ]
  },
  {
   "cell_type": "code",
   "execution_count": 4,
   "id": "a27aaa8b-d024-4bb5-a661-1773be626776",
   "metadata": {
    "scrolled": true
   },
   "outputs": [
    {
     "name": "stderr",
     "output_type": "stream",
     "text": [
      "/sibcb1/chenluonanlab8/caideyu/miniconda3/envs/Project_CT/lib/python3.10/site-packages/scanpy/preprocessing/_pca.py:314: ImplicitModificationWarning: Setting element `.obsm['X_pca']` of view, initializing view as actual.\n",
      "  adata.obsm[\"X_pca\"] = X_pca\n",
      "/var/tmp/ipykernel_219582/2996530569.py:6: FutureWarning: In the future, the default backend for leiden will be igraph instead of leidenalg.\n",
      "\n",
      " To achieve the future defaults please pass: flavor=\"igraph\" and n_iterations=2.  directed must also be False to work with igraph's implementation.\n",
      "  sc.tl.leiden(adata, resolution=0.7)\n"
     ]
    }
   ],
   "source": [
    "sc.pp.highly_variable_genes(adata, n_top_genes=1000)\n",
    "adata.var.loc[adata.var.index.isin(Trrust_TF), 'highly_variable'] = True\n",
    "adata = adata[:, adata.var.highly_variable]\n",
    "sc.tl.pca(adata)\n",
    "sc.pp.neighbors(adata, n_neighbors=10, n_pcs=35)\n",
    "sc.tl.leiden(adata, resolution=0.7)\n",
    "adata.obs['manual_cluster'] = '0'\n",
    "adata.layers['raw_count'] = adata.X.copy()"
   ]
  },
  {
   "cell_type": "code",
   "execution_count": null,
   "id": "a0798fc3-ed10-4ddb-86bf-6db860861d38",
   "metadata": {},
   "outputs": [
    {
     "name": "stdout",
     "output_type": "stream",
     "text": [
      "Loading prebuilt promoter base-GRN. Version: hg19_gimmemotifsv5_fpr2\n"
     ]
    },
    {
     "name": "stderr",
     "output_type": "stream",
     "text": [
      "... storing 'cell_type' as categorical\n",
      "... storing 'manual_cluster' as categorical\n"
     ]
    },
    {
     "data": {
      "application/vnd.jupyter.widget-view+json": {
       "model_id": "0305a6965f574a75aae1fc435fc1b201",
       "version_major": 2,
       "version_minor": 0
      },
      "text/plain": [
       "  0%|          | 0/1 [00:00<?, ?it/s]"
      ]
     },
     "metadata": {},
     "output_type": "display_data"
    },
    {
     "name": "stdout",
     "output_type": "stream",
     "text": [
      "Inferring GRN for 0...\n"
     ]
    },
    {
     "data": {
      "application/vnd.jupyter.widget-view+json": {
       "model_id": "96403c9252ca43c7b04505cfb2144e03",
       "version_major": 2,
       "version_minor": 0
      },
      "text/plain": [
       "  0%|          | 0/1643 [00:00<?, ?it/s]"
      ]
     },
     "metadata": {},
     "output_type": "display_data"
    }
   ],
   "source": [
    "import celloracle as co\n",
    "base_GRN = co.data.load_human_promoter_base_GRN()\n",
    "oracle = co.Oracle()\n",
    "oracle.import_anndata_as_normalized_count(adata=adata, cluster_column_name=\"manual_cluster\", embedding_name=\"X_pca\")\n",
    "oracle.import_TF_data(TF_info_matrix=base_GRN)\n",
    "oracle.perform_PCA()\n",
    "n_comps = np.where(np.diff(np.diff(np.cumsum(oracle.pca.explained_variance_ratio_))>0.002))[0][0]\n",
    "n_comps = min(n_comps, 50)\n",
    "n_cell = oracle.adata.shape[0]\n",
    "k = int(0.025*n_cell)\n",
    "oracle.knn_imputation(n_pca_dims=n_comps, k=k, balanced=True, b_sight=k*8, b_maxl=k*4, n_jobs=4)\n",
    "links = oracle.get_links(cluster_name_for_GRN_unit=\"manual_cluster\", alpha=10, verbose_level=10, model_method='bayesian_ridge')\n",
    "links.filter_links(p=0.001, weight=\"coef_abs\", threshold_number=2000)\n",
    "links.get_network_score()\n",
    "gene_info_df = pd.DataFrame(links.merged_score['degree_centrality_all'].sort_values(ascending=False))"
   ]
  },
  {
   "metadata": {},
   "cell_type": "code",
   "outputs": [
    {
     "name": "stdout",
     "output_type": "stream",
     "text": [
      "SOX2 index: 293\n",
      "POU5F1 index: 10\n",
      "OCT4 not found in gene_info_df.index\n",
      "NANOG index: 16\n",
      "KLF4 index: 24\n",
      "MYC index: 70\n",
      "LIN28A not found in gene_info_df.index\n",
      "length: 727\n"
     ]
    }
   ],
   "execution_count": 13,
   "source": [
    "if 'SOX2' in gene_info_df.index:\n",
    "    print('SOX2 index:', gene_info_df.index.get_loc('SOX2'))\n",
    "else:\n",
    "    print('SOX2 not found in gene_info_df.index')\n",
    "if 'POU5F1' in gene_info_df.index:\n",
    "    print('POU5F1 index:', gene_info_df.index.get_loc('POU5F1'))\n",
    "else:\n",
    "    print('POU5F1 not found in gene_info_df.index')\n",
    "if 'OCT4' in gene_info_df.index:\n",
    "    print('OCT4 index:', gene_info_df.index.get_loc('OCT4'))\n",
    "else:\n",
    "    print('OCT4 not found in gene_info_df.index')\n",
    "if 'NANOG' in gene_info_df.index:\n",
    "    print('NANOG index:', gene_info_df.index.get_loc('NANOG'))\n",
    "else:\n",
    "    print('NANOG not found in gene_info_df.index')\n",
    "if 'KLF4' in gene_info_df.index:\n",
    "    print('KLF4 index:', gene_info_df.index.get_loc('KLF4'))\n",
    "else:\n",
    "    print('KLF4 not found in gene_info_df.index')\n",
    "if 'MYC' in gene_info_df.index:\n",
    "    print('MYC index:', gene_info_df.index.get_loc('MYC'))\n",
    "else:\n",
    "    print('MYC not found in gene_info_df.index')\n",
    "if 'LIN28A' in gene_info_df.index:\n",
    "    print('LIN28A index:', gene_info_df.index.get_loc('LIN28A'))\n",
    "else:\n",
    "    print('LIN28A not found in gene_info_df.index')\n",
    "\n",
    "print('length:', gene_info_df.shape[0])"
   ],
   "id": "737c98cf-f0c4-4815-ab7d-14b1b9b1ebdc"
  },
  {
   "cell_type": "code",
   "execution_count": 1,
   "id": "0d6600eb-e450-4dc8-9f13-464546fc5518",
   "metadata": {},
   "outputs": [],
   "source": [
    "import os\n",
    "import numpy as np\n",
    "import pandas as pd\n",
    "import anndata\n",
    "import scanpy as sc\n",
    "import seaborn as sns\n",
    "\n",
    "BASE_DIR = '/sibcb1/chenluonanlab8/caideyu/CauTrigger_new/'\n",
    "case_path = os.path.join(BASE_DIR, 'BenchmarkHESC/')\n",
    "data_path = os.path.join(case_path, 'data/')\n",
    "output_path = os.path.join(case_path, 'output/')\n",
    "os.makedirs(output_path, exist_ok=True)"
   ]
  },
  {
   "cell_type": "code",
   "execution_count": 2,
   "id": "2b78c0a7-fecc-4ef1-ad67-49da59674b08",
   "metadata": {},
   "outputs": [],
   "source": [
    "Trrust = pd.read_table(os.path.join(data_path, 'trrust_rawdata.human.tsv'), header=None)\n",
    "Trrust_TF = Trrust.iloc[:, 0].dropna().unique()  # 827\n",
    "Trrust_nonTF = np.setdiff1d(Trrust.iloc[:, 1].dropna().unique(), Trrust_TF)  #1629"
   ]
  },
  {
   "cell_type": "code",
   "execution_count": 3,
   "id": "9563f63a-1818-4701-bef9-135d7eed44f2",
   "metadata": {
    "scrolled": true
   },
   "outputs": [
    {
     "name": "stderr",
     "output_type": "stream",
     "text": [
      "/sibcb1/chenluonanlab8/caideyu/miniconda3/envs/Project_CT/lib/python3.10/site-packages/anndata/_core/anndata.py:430: FutureWarning: The dtype argument is deprecated and will be removed in late 2024.\n",
      "  warnings.warn(\n",
      "/var/tmp/ipykernel_219939/186452163.py:7: ImplicitModificationWarning: Trying to modify attribute `.obs` of view, initializing view as actual.\n",
      "  adata.obs['labels'] = adata.obs['cell_type'].map({'H1': 0, 'HFF': 1})\n"
     ]
    }
   ],
   "source": [
    "expData = pd.read_csv(os.path.join(data_path, 'GSE75748_sc_cell_type_ec.csv.gz'), index_col=0).transpose()\n",
    "\n",
    "adata = sc.AnnData(X=expData, dtype=np.float32)\n",
    "adata.obs['cell_type'] = [index.split('_')[0] for index in adata.obs.index]\n",
    "adata = adata[adata.obs['cell_type'].isin(['H1', 'HFF'])]\n",
    "adata.obs['labels'] = adata.obs['cell_type'].map({'H1': 0, 'HFF': 1})\n",
    "adata.obs['cell_type'] = adata.obs['cell_type'].map({'H1': 'ESC', 'HFF': 'Fibroblast'})\n",
    "sc.pp.normalize_total(adata, target_sum=1e4)\n",
    "sc.pp.log1p(adata)"
   ]
  },
  {
   "cell_type": "code",
   "execution_count": 4,
   "id": "1e4c5466-b8a0-4972-9746-54ed7a16429c",
   "metadata": {
    "scrolled": true
   },
   "outputs": [],
   "source": [
    "sc.pp.highly_variable_genes(adata, n_top_genes=500)\n",
    "adata.var.loc[adata.var.index.isin(Trrust_TF), 'highly_variable'] = True\n",
    "adata = adata[:, adata.var.highly_variable]"
   ]
  },
  {
   "cell_type": "code",
   "execution_count": 5,
   "id": "05fba16d-e08c-4190-a167-fe83034b0ffb",
   "metadata": {
    "scrolled": true
   },
   "outputs": [
    {
     "name": "stdout",
     "output_type": "stream",
     "text": [
      "[0] - Data loading and preprocessing...\n",
      "Consider the input data with 1 lineages:\n",
      "  Lineage - all:\n",
      "    13791 extra edges (Spearman correlation > 0.6) are added into the prior gene interaction network.\n",
      "    Total number of edges: 208805.\n",
      "    n_genes × n_cells = 1231 × 371\n",
      "[1] - Constructing cell-lineage-specific GRN...\n",
      "  Lineage - all: \n",
      "  Warning: Auxiliary gene scores (e.g., differential expression level) are not considered!\n"
     ]
    },
    {
     "name": "stderr",
     "output_type": "stream",
     "text": [
      "  Iter: 1/1: 100%|███████████████| 350/350 [01:16<00:00,  4.60it/s, loss=0.000267, min_loss=4.38e-5]\n",
      "/sibcb1/chenluonanlab8/caideyu/miniconda3/envs/Project_CT/lib/python3.10/site-packages/cefcon/cell_lineage_GRN.py:487: UserWarning: std(): degrees of freedom is <= 0. Correction should be strictly less than the reduction factor (input numel divided by output numel). (Triggered internally at /pytorch/aten/src/ATen/native/ReduceOps.cpp:1831.)\n",
      "  'weights_std': scaled_att_coefs_combined.std(1, keepdim=False).numpy()}\n"
     ]
    },
    {
     "name": "stdout",
     "output_type": "stream",
     "text": [
      "Lineage - all:\n",
      "[2] - Identifying driver regulators...\n",
      "Restricted license - for non-production use only - expires 2025-11-24\n",
      "  Solving MFVS problem...\n",
      "    128 critical nodes are found.\n",
      "    23 nodes left after graph reduction operation.\n",
      "    Solving the Integer Linear Programming problem on the reduced graph...\n",
      "optimal value with GUROBI:11.0,  status:optimal)\n",
      "  139 MFVS driver nodes are found.\n",
      "  Solving MDS problem...\n",
      "    105 critical nodes are found.\n",
      "    418 nodes left after graph reduction operation.\n",
      "    Solving the Integer Linear Programming problem on the reduced graph...\n",
      "      Solving by GUROBI...(optimal value with GUROBI:82.0,  status:optimal)\n",
      "  187 MDS driver genes are found.\n"
     ]
    }
   ],
   "source": [
    "import cefcon as cf\n",
    "network_data = pd.read_csv(os.path.join(data_path, 'NicheNet_human.csv'), index_col=None, header=0)\n",
    "data = cf.data_preparation(input_expData=adata, input_priorNet=network_data)\n",
    "cefcon_results_dict = {}\n",
    "for li, data_li in data.items():\n",
    "    cefcon_GRN_model = cf.NetModel(epochs=350, repeats=1, cuda='1')\n",
    "    cefcon_GRN_model.run(data_li)\n",
    "    cefcon_results = cefcon_GRN_model.get_cefcon_results(edge_threshold_avgDegree=8)\n",
    "    cefcon_results_dict[li] = cefcon_results\n",
    "for li, result_li in cefcon_results_dict.items():\n",
    "    print(f'Lineage - {li}:')\n",
    "    result_li.gene_influence_score()\n",
    "    result_li.driver_regulators()\n",
    "result_all = cefcon_results_dict['all']\n",
    "gene_info_df2 = result_all.driver_regulator.sort_values(by='influence_score', ascending=False)"
   ]
  },
  {
   "metadata": {},
   "cell_type": "code",
   "outputs": [
    {
     "name": "stdout",
     "output_type": "stream",
     "text": [
      "SOX2 index: 7\n",
      "POU5F1 index: 2\n",
      "OCT4 not found in gene_info_df.index\n",
      "NANOG index: 3\n",
      "KLF4 not found in gene_info_df.index\n",
      "MYC index: 14\n",
      "LIN28A index: 185\n",
      "length: 247\n"
     ]
    }
   ],
   "execution_count": 6,
   "source": [
    "if 'SOX2' in gene_info_df2.index:\n",
    "    print('SOX2 index:', gene_info_df2.index.get_loc('SOX2'))\n",
    "else:\n",
    "    print('SOX2 not found in gene_info_df.index')\n",
    "if 'POU5F1' in gene_info_df2.index:\n",
    "    print('POU5F1 index:', gene_info_df2.index.get_loc('POU5F1'))\n",
    "else:\n",
    "    print('POU5F1 not found in gene_info_df.index')\n",
    "if 'OCT4' in gene_info_df2.index:\n",
    "    print('OCT4 index:', gene_info_df2.index.get_loc('OCT4'))\n",
    "else:\n",
    "    print('OCT4 not found in gene_info_df.index')\n",
    "if 'NANOG' in gene_info_df2.index:\n",
    "    print('NANOG index:', gene_info_df2.index.get_loc('NANOG'))\n",
    "else:\n",
    "    print('NANOG not found in gene_info_df.index')\n",
    "if 'KLF4' in gene_info_df2.index:\n",
    "    print('KLF4 index:', gene_info_df2.index.get_loc('KLF4'))\n",
    "else:\n",
    "    print('KLF4 not found in gene_info_df.index')\n",
    "if 'MYC' in gene_info_df2.index:\n",
    "    print('MYC index:', gene_info_df2.index.get_loc('MYC'))\n",
    "else:\n",
    "    print('MYC not found in gene_info_df.index')\n",
    "if 'LIN28A' in gene_info_df2.index:\n",
    "    print('LIN28A index:', gene_info_df2.index.get_loc('LIN28A'))\n",
    "else:\n",
    "    print('LIN28A not found in gene_info_df.index')\n",
    "\n",
    "print('length:', gene_info_df2.shape[0])"
   ],
   "id": "88b0bacb-af97-4c60-a5b4-107c24f65c15"
  },
  {
   "cell_type": "code",
   "execution_count": 11,
   "id": "dde1081a-5b8c-4498-aeb6-7f80aafda8a4",
   "metadata": {},
   "outputs": [
    {
     "name": "stderr",
     "output_type": "stream",
     "text": [
      "/var/tmp/ipykernel_219939/3858529808.py:23: DtypeWarning: Columns (4) have mixed types. Specify dtype option on import or set low_memory=False.\n",
      "  pd_motifs = pd.read_csv(MOTIF_ANNOTATIONS_FNAME, sep='\\t')\n"
     ]
    }
   ],
   "source": [
    "from pyscenic.utils import load_motifs\n",
    "from pyscenic.aucell import aucell\n",
    "from pyscenic.rss import regulon_specificity_scores\n",
    "from pyscenic.cli.utils import load_signatures\n",
    "RESOURCES_FOLDERNAME = data_path\n",
    "RESULTS_FOLDERNAME = output_path\n",
    "FIGURES_FOLDERNAME = output_path\n",
    "AUXILLIARIES_FOLDERNAME = data_path\n",
    "DATASET_ID = 'h2fibro'\n",
    "\n",
    "RANKING_DBS_FNAMES = list(map(lambda fn: os.path.join(AUXILLIARIES_FOLDERNAME, fn),\n",
    "                   ['hg19-500bp-upstream-7species.mc9nr.genes_vs_motifs.rankings.feather',\n",
    "                   'hg19-500bp-upstream-10species.mc9nr.genes_vs_motifs.rankings.feather',\n",
    "                   'hg19-tss-centered-10kb-10species.mc9nr.genes_vs_motifs.rankings.feather',\n",
    "                   'hg19-tss-centered-10kb-7species.mc9nr.genes_vs_motifs.rankings.feather',\n",
    "                   'hg19-tss-centered-5kb-10species.mc9nr.genes_vs_motifs.rankings.feather',\n",
    "                    'hg19-tss-centered-5kb-7species.mc9nr.genes_vs_motifs.rankings.feather']))        \n",
    "MOTIF_ANNOTATIONS_FNAME = os.path.join(RESOURCES_FOLDERNAME, 'motifs-v9-nr.hgnc-m0.001-o0.0.tbl')\n",
    "MM_TFS_FNAME = os.path.join(RESULTS_FOLDERNAME, 'hg_tfs.txt')\n",
    "COUNTS_QC_MTX_FNAME = os.path.join(RESULTS_FOLDERNAME, f'{DATASET_ID}.qc.counts.csv')\n",
    "ADJACENCIES_FNAME = os.path.join(RESULTS_FOLDERNAME, f'{DATASET_ID}.adjacencies.tsv')\n",
    "MOTIFS_FNAME = os.path.join(RESULTS_FOLDERNAME, f'{DATASET_ID}.motifs.csv')\n",
    "pd_motifs = pd.read_csv(MOTIF_ANNOTATIONS_FNAME, sep='\\t')\n",
    "mm_tfs = pd_motifs.gene_name.unique()\n",
    "with open(MM_TFS_FNAME, 'wt') as f:\n",
    "    f.write('\\n'.join(mm_tfs) + '\\n')"
   ]
  },
  {
   "cell_type": "code",
   "execution_count": 12,
   "id": "25f661a7-551a-44fd-83b2-c21f71a731a9",
   "metadata": {
    "scrolled": true
   },
   "outputs": [
    {
     "name": "stderr",
     "output_type": "stream",
     "text": [
      "/sibcb1/chenluonanlab8/caideyu/miniconda3/envs/Project_CT/lib/python3.10/site-packages/anndata/_core/anndata.py:430: FutureWarning: The dtype argument is deprecated and will be removed in late 2024.\n",
      "  warnings.warn(\n",
      "/var/tmp/ipykernel_219939/1538864227.py:6: ImplicitModificationWarning: Trying to modify attribute `.obs` of view, initializing view as actual.\n",
      "  adata.obs['cell_type'] = 'RSS'\n"
     ]
    }
   ],
   "source": [
    "expData = pd.read_csv(os.path.join(data_path, 'GSE75748_sc_cell_type_ec.csv.gz'), index_col=0).transpose()\n",
    "adata = sc.AnnData(X=expData, dtype=np.float32)\n",
    "adata.obs['cell_type'] = [index.split('_')[0] for index in adata.obs.index]\n",
    "adata = adata[adata.obs['cell_type'].isin(['H1', 'HFF'])]\n",
    "adata.obs['cell_type'] = 'RSS'\n",
    "sc.pp.normalize_total(adata, target_sum=1e4)\n",
    "sc.pp.log1p(adata)\n",
    "sc.pp.highly_variable_genes(adata, n_top_genes=1000)\n",
    "adata.var.loc[adata.var.index.isin(Trrust_TF), 'highly_variable'] = True\n",
    "adata = adata[:, adata.var.highly_variable]\n",
    "\n",
    "df_counts_qc = adata.to_df()\n",
    "df_counts_qc.to_csv(COUNTS_QC_MTX_FNAME)"
   ]
  },
  {
   "cell_type": "code",
   "execution_count": 60,
   "id": "2eda1d92-b24c-4fb4-ba62-d067510b8967",
   "metadata": {
    "scrolled": true
   },
   "outputs": [],
   "source": "!~/miniconda3/envs/Project_CT/bin/pyscenic grn {COUNTS_QC_MTX_FNAME} {MM_TFS_FNAME} -o {ADJACENCIES_FNAME} --num_workers 1"
  },
  {
   "metadata": {
    "scrolled": true
   },
   "cell_type": "code",
   "outputs": [],
   "execution_count": 63,
   "source": [
    "# STEP 2-3: Regulon prediction aka cisTarget from CLI\n",
    "DBS_PARAM = ' '.join(RANKING_DBS_FNAMES)\n",
    "!~/miniconda3/envs/Project_CT/bin/pyscenic ctx {ADJACENCIES_FNAME} {DBS_PARAM} --annotations_fname {MOTIF_ANNOTATIONS_FNAME} --expression_mtx_fname {COUNTS_QC_MTX_FNAME} --output {MOTIFS_FNAME} --num_workers 6"
   ],
   "id": "591d9462-d3f6-4965-bb21-10c278673696"
  },
  {
   "cell_type": "code",
   "execution_count": 16,
   "id": "f362046d-bb7b-4fdf-b9ff-07ca74f735a5",
   "metadata": {
    "scrolled": true
   },
   "outputs": [
    {
     "name": "stdout",
     "output_type": "stream",
     "text": [
      "Create regulons from a dataframe of enriched features.\n",
      "Additional columns saved: []\n"
     ]
    },
    {
     "name": "stderr",
     "output_type": "stream",
     "text": [
      "100%|██████████| 339/339 [00:05<00:00, 64.89it/s] \n"
     ]
    }
   ],
   "source": [
    "# STEP 4: Cellular enrichment aka AUCell\n",
    "sig = load_signatures(MOTIFS_FNAME)\n",
    "auc_mtx = aucell(df_counts_qc, sig, num_workers=1)\n",
    "rss = regulon_specificity_scores(auc_mtx, adata.obs.cell_type)\n",
    "df = rss.transpose()\n",
    "df.rename(index=lambda x: x.replace(\"(+)\", \"\"), inplace=True)\n",
    "df = pd.DataFrame(df).sort_values(by='RSS', ascending=False)"
   ]
  },
  {
   "metadata": {},
   "cell_type": "code",
   "outputs": [
    {
     "name": "stdout",
     "output_type": "stream",
     "text": [
      "SOX2 index: 81\n",
      "POU5F1 index: 35\n",
      "OCT4 not found in gene_info_df.index\n",
      "NANOG index: 86\n",
      "KLF4 not found in gene_info_df.index\n",
      "MYC index: 68\n",
      "LIN28A not found in gene_info_df.index\n",
      "length: 339\n"
     ]
    }
   ],
   "execution_count": 18,
   "source": [
    "if 'SOX2' in df.index:\n",
    "    print('SOX2 index:', df.index.get_loc('SOX2'))\n",
    "else:\n",
    "    print('SOX2 not found in gene_info_df.index')\n",
    "if 'POU5F1' in df.index:\n",
    "    print('POU5F1 index:', df.index.get_loc('POU5F1'))\n",
    "else:\n",
    "    print('POU5F1 not found in gene_info_df.index')\n",
    "if 'OCT4' in df.index:\n",
    "    print('OCT4 index:', df.index.get_loc('OCT4'))\n",
    "else:\n",
    "    print('OCT4 not found in gene_info_df.index')\n",
    "if 'NANOG' in df.index:\n",
    "    print('NANOG index:', df.index.get_loc('NANOG'))\n",
    "else:\n",
    "    print('NANOG not found in gene_info_df.index')\n",
    "if 'KLF4' in df.index:\n",
    "    print('KLF4 index:', df.index.get_loc('KLF4'))\n",
    "else:\n",
    "    print('KLF4 not found in gene_info_df.index')\n",
    "if 'MYC' in df.index:\n",
    "    print('MYC index:', df.index.get_loc('MYC'))\n",
    "else:\n",
    "    print('MYC not found in gene_info_df.index')\n",
    "if 'LIN28A' in df.index:\n",
    "    print('LIN28A index:', df.index.get_loc('LIN28A'))\n",
    "else:\n",
    "    print('LIN28A not found in gene_info_df.index')\n",
    "\n",
    "print('length:', df.shape[0])"
   ],
   "id": "8f858953-57dd-4ea5-9dde-008725cb8930"
  },
  {
   "metadata": {},
   "cell_type": "code",
   "outputs": [],
   "execution_count": null,
   "source": [
    "# CellOracle\n",
    "# SOX2 index: 293\n",
    "# POU5F1 index: 10\n",
    "# OCT4 not found in gene_info_df.index\n",
    "# NANOG index: 16\n",
    "# KLF4 index: 24\n",
    "# MYC index: 70\n",
    "# LIN28A not found in gene_info_df.index\n",
    "# length: 727\n",
    "\n",
    "# CEFCON\n",
    "# SOX2 index: 7\n",
    "# POU5F1 index: 2\n",
    "# OCT4 not found in gene_info_df.index\n",
    "# NANOG index: 3\n",
    "# KLF4 not found in gene_info_df.index\n",
    "# MYC index: 14\n",
    "# LIN28A index: 185\n",
    "# length: 247\n",
    "\n",
    "# SCENIC\n",
    "# SOX2 index: 81\n",
    "# POU5F1 index: 35\n",
    "# OCT4 not found in gene_info_df.index\n",
    "# NANOG index: 86\n",
    "# KLF4 not found in gene_info_df.index\n",
    "# MYC index: 68\n",
    "# LIN28A not found in gene_info_df.index\n",
    "# length: 339"
   ],
   "id": "e07eb843-1bc5-4438-823c-98221bcf7abd"
  },
  {
   "cell_type": "code",
   "execution_count": 24,
   "id": "51c3794c-c26c-4f4f-b7d3-7bd51b007256",
   "metadata": {},
   "outputs": [
    {
     "data": {
      "image/png": "[encoded data removed]",
      "text/plain": [
       "<Figure size 800x400 with 2 Axes>"
      ]
     },
     "metadata": {},
     "output_type": "display_data"
    }
   ],
   "source": [
    "import pandas as pd\n",
    "import seaborn as sns\n",
    "import matplotlib.pyplot as plt\n",
    "import numpy as np\n",
    "\n",
    "data = {\n",
    "    'SOX2': [0.02, 293/727, 7/247, 81/339],\n",
    "    'POU5F1/OCT4': [0.01, 10/727, 2/247, 35/339],\n",
    "    'NANOG': [0.01, 16/727, 3/247, 86/339],\n",
    "    'KLF4 ': [0.04, 24/727, np.nan, np.nan],\n",
    "    'MYC ': [0.07, 70/727, 14/247, 68/339],\n",
    "    'LIN28A ': [0.16, np.nan, 185/247, np.nan],\n",
    "}\n",
    "methods = ['CauTrigger', 'CellOracle', 'CEFCON', 'SCENIC']\n",
    "df = pd.DataFrame(data, index=methods)\n",
    "\n",
    "annot = df.copy()\n",
    "annot = annot.applymap(lambda x: f\"{x * 100:.0f}%\" if pd.notnull(x) else '\\\\')\n",
    "\n",
    "cmap = sns.cm.rocket_r\n",
    "mask = df.isnull()\n",
    "\n",
    "plt.figure(figsize=(8, 4))\n",
    "sns.heatmap(df, annot=annot, fmt='', cmap=cmap, linewidths=0.5, linecolor='white', mask=mask,\n",
    "            cbar_kws={'label': 'Percentile Rank'})\n",
    "plt.title(\"Gene Rank Percentile per Method\")\n",
    "plt.ylabel(\"Method\")\n",
    "plt.xlabel(\"Gene\")\n",
    "plt.tight_layout()\n",
    "plt.savefig(output_path+'ESC2Fibro_rank.pdf')\n",
    "plt.show()"
   ]
  }
 ],
 "metadata": {
  "kernelspec": {
   "display_name": "Project_CT",
   "language": "python",
   "name": "project_ct"
  },
  "language_info": {
   "codemirror_mode": {
    "name": "ipython",
    "version": 3
   },
   "file_extension": ".py",
   "mimetype": "text/x-python",
   "name": "python",
   "nbconvert_exporter": "python",
   "pygments_lexer": "ipython3",
   "version": "3.10.13"
  },
  "widgets": {
   "application/vnd.jupyter.widget-state+json": {
    "state": {},
    "version_major": 2,
    "version_minor": 0
   }
  }
 },
 "nbformat": 4,
 "nbformat_minor": 5
}
